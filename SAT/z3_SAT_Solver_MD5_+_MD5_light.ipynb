{
  "nbformat": 4,
  "nbformat_minor": 0,
  "metadata": {
    "colab": {
      "provenance": []
    },
    "kernelspec": {
      "name": "python3",
      "display_name": "Python 3"
    },
    "language_info": {
      "name": "python"
    }
  },
  "cells": [
    {
      "cell_type": "code",
      "execution_count": 2,
      "metadata": {
        "colab": {
          "base_uri": "https://localhost:8080/"
        },
        "id": "-8Orf3TnXRap",
        "outputId": "933c5810-9002-480a-e1e7-3e2211071d74"
      },
      "outputs": [
        {
          "output_type": "stream",
          "name": "stdout",
          "text": [
            "Collecting z3-solver\n",
            "  Downloading z3_solver-4.13.4.0-py3-none-manylinux_2_17_x86_64.manylinux2014_x86_64.whl.metadata (602 bytes)\n",
            "Downloading z3_solver-4.13.4.0-py3-none-manylinux_2_17_x86_64.manylinux2014_x86_64.whl (29.0 MB)\n",
            "\u001b[2K   \u001b[90m━━━━━━━━━━━━━━━━━━━━━━━━━━━━━━━━━━━━━━━━\u001b[0m \u001b[32m29.0/29.0 MB\u001b[0m \u001b[31m40.9 MB/s\u001b[0m eta \u001b[36m0:00:00\u001b[0m\n",
            "\u001b[?25hInstalling collected packages: z3-solver\n",
            "Successfully installed z3-solver-4.13.4.0\n"
          ]
        }
      ],
      "source": [
        "!pip install z3-solver"
      ]
    },
    {
      "cell_type": "code",
      "source": [
        "import math\n",
        "import struct\n",
        "import time\n",
        "import random\n",
        "import string\n",
        "from z3 import *"
      ],
      "metadata": {
        "id": "2yU_Hye-X7cR"
      },
      "execution_count": 3,
      "outputs": []
    },
    {
      "cell_type": "markdown",
      "source": [
        "# MD5 Implementation"
      ],
      "metadata": {
        "id": "r0AHNEfcXae0"
      }
    },
    {
      "cell_type": "code",
      "source": [
        "class Hash_value:\n",
        "    def __init__(self, hashvalue_hexa):\n",
        "        self.hashvalue_hexa = hashvalue_hexa\n",
        "        self.hashvalue_bits = bin(int(hashvalue_hexa, 16))[2:].zfill(len(hashvalue_hexa) * 4)\n",
        "        self.hashvalue_integer =  int(hashvalue_hexa, 16)\n",
        "\n",
        "class MD5_Hash:\n",
        "    \"\"\"\n",
        "    This class implements the MD5 Algorithm and its light-weight variant as a z3 implementation\n",
        "    set:\n",
        "    type: light (for MD5 light) or regular (for MD5)\n",
        "    \"\"\"\n",
        "    # Constructor (__init__)\n",
        "    def __init__(self, type = \"regular\",):\n",
        "        # Set all Variables and Constants dependent on wordsize_bit\n",
        "        if (type == \"regular\"):\n",
        "            self.wordsize_bit = 32\n",
        "            self.length_bits = 'Q' # 64 bit / 8 Byte\n",
        "        elif (type == \"medium\"):\n",
        "            self.wordsize_bit = 16\n",
        "            self.length_bits = 'I' # 32 bit / 4 Byte\n",
        "        elif (type == \"light\"):\n",
        "            self.wordsize_bit = 8\n",
        "            self.length_bits = 'H' # 16 bit / 2 Byte\n",
        "        else: raise ValueError(\"hash type must be either light or regular\")\n",
        "        self.wordsize_byte = int(self.wordsize_bit / 8)\n",
        "        self.blocksize_byte = self.wordsize_byte * 16\n",
        "        self.hexa = (1 << (self.wordsize_byte * 8)) - 1\n",
        "        a0, b0, c0, d0 = 0x67452301, 0xEFCDAB89, 0x98BADCFE, 0x10325476\n",
        "        self.Ks = [int(abs(math.sin(i + 1)) * (2**self.wordsize_bit)) & self.hexa for i in range(64)]\n",
        "        self.Ss = list(map(lambda s: s % self.wordsize_bit,[7, 12, 17, 22] * 4 + [5, 9, 14, 20] * 4 + [4, 11, 16, 23] * 4 + [6, 10, 15, 21] * 4))\n",
        "        self.a0,self.b0,self.c0,self.d0 = map(lambda x: int(hex(x)[2:].upper()[:(self.wordsize_byte * 2)],16), [a0, b0, c0, d0])\n",
        "        self.hashlength_bit = 4* self.wordsize_bit\n",
        "        self.hashlength_byte = 4* self.wordsize_byte\n",
        "    #------------------------------------------------------------------------------------------------------------------------\n",
        "    #Pre-Processing\n",
        "    #convert Type\n",
        "    def convertType(self,m):\n",
        "        # Make sure m is converted to byte value\n",
        "        if isinstance(m, str) and all(c in '01' for c in m):  # If input is a bit string\n",
        "            bv = [m[i:i+8] for i in range(0, len(m), 8)]\n",
        "            message = ''.join(chr(int(b, 2)) for b in bv)\n",
        "        elif isinstance(m, str):  # If input is a message (string)\n",
        "            message = m\n",
        "        else:\n",
        "            raise ValueError(\"Input must be either a message (string) or a valid bit string.\")\n",
        "        return message.encode('utf-8') # bytes\n",
        "\n",
        "    #Padding Function\n",
        "    def pad(self,m):\n",
        "        bytes = self.convertType(m)\n",
        "        original_length_bits = len(bytes) * 8\n",
        "        bytes += b'\\x80' #appends 10000000\n",
        "        padding_value = self.blocksize_byte - 8 # in byte\n",
        "        length_bits = 'Q' # 8 Byte\n",
        "        if (self.wordsize_bit == 8):\n",
        "            padding_value = self.blocksize_byte - 2 # in byte\n",
        "            length_bits = 'H' # 2 Byte\n",
        "        while len(bytes)%(self.blocksize_byte)!=padding_value:\n",
        "            bytes += b'\\x00' #appends 00000000\n",
        "        bytes += struct.pack(f'<{length_bits}', original_length_bits) # appends 16 bit /64 bit representation in litte-endian-format of length\n",
        "        return bytes\n",
        "\n",
        "    def split_bytes(self, data, chunk_size):\n",
        "      return [data[i:i + chunk_size] for i in range(0, len(data), chunk_size)]\n",
        "\n",
        "    #------------------------------------------------------------------------------------------------------------------------\n",
        "    # Auxiliary Functions\n",
        "    # Rotation function (rotate left)\n",
        "    def rotate_left(self, x, n):\n",
        "        # Perform a left rotation on a 32-bit integer 'x' by 'n' positions\n",
        "        x &= self.hexa\n",
        "        return ((x << n) | (x >> (self.wordsize_bit - n))) & self.hexa\n",
        "\n",
        "    #------------------------------------------------------------------------------------------------------------------------\n",
        "    #Hashing\n",
        "    def processblockZ3(self, solver, M, inits = None , p = '', rounds = 64):\n",
        "        if rounds > 64 or not isinstance(rounds, int):\n",
        "            raise ValueError(\"rounds must be int < 64\")\n",
        "        if inits is None:\n",
        "            inits = [self.a0, self.b0, self.c0, self.d0]\n",
        "        # Declaring constants and values:\n",
        "        bitsize = 2 * self.wordsize_bit\n",
        "\n",
        "        S = [BitVec(f'S{p}_{i}', bitsize) for i in range(rounds)]\n",
        "        K = [BitVec(f'K{p}_{i}', bitsize) for i in range(rounds)]\n",
        "\n",
        "        A = [BitVec(f'A{p}_{i}', bitsize) for i in range(rounds+1)]\n",
        "        B = [BitVec(f'B{p}_{i}', bitsize) for i in range(rounds+1)]\n",
        "        C = [BitVec(f'C{p}_{i}', bitsize) for i in range(rounds+1)]\n",
        "        D = [BitVec(f'D{p}_{i}', bitsize) for i in range(rounds+1)]\n",
        "\n",
        "\n",
        "        #Initializing constants and values:\n",
        "        for i in range(rounds):\n",
        "            solver.add(K[i] == self.Ks[i])\n",
        "            solver.add(S[i] == self.Ss[i])\n",
        "\n",
        "        solver.add(A[0] == inits[0])\n",
        "        solver.add(B[0] == inits[1])\n",
        "        solver.add(C[0] == inits[2])\n",
        "        solver.add(D[0] == inits[3])\n",
        "\n",
        "\n",
        "        #Hashing:\n",
        "        f = [BitVec(f'f{p}_{i}', bitsize) for i in range(rounds)]\n",
        "        for i in range(rounds):\n",
        "            if( i < 16):\n",
        "                solver.add(f[i] == (B[i] & C[i]) | (~B[i] & D[i]))\n",
        "                g = i\n",
        "            elif( i < 32):\n",
        "                solver.add(f[i] == (B[i] & D[i]) | (C[i] & ~D[i]))\n",
        "                g = (5 * i + 1) % 16\n",
        "            elif( i < 48):\n",
        "                solver.add(f[i] == B[i] ^ C[i] ^ D[i])\n",
        "                g = (3 * i + 5) % 16\n",
        "            elif( i < 64):\n",
        "                solver.add(f[i] == C[i] ^ (B[i] | ~D[i]))\n",
        "                g = (7 * i) % 16\n",
        "            # Ensure extracted bits are within valid range\n",
        "            start = self.wordsize_byte * g\n",
        "            end = self.wordsize_byte * g + self.wordsize_byte\n",
        "            if (end - start == 1): word = M[start]\n",
        "            else: word = Concat(*[M[start + i] for i in range(end-start)])\n",
        "\n",
        "            solver.add(D[i+1] == C[i])\n",
        "            solver.add(C[i+1] == B[i])\n",
        "            solver.add(B[i+1] == (B[i] + self.rotate_left((A[i] + f[i] + K[i] + ZeroExt(bitsize - word.size(),word)),S[i])) & self.hexa)\n",
        "            solver.add(A[i+1] == D[i])\n",
        "        return A[rounds],B[rounds],C[rounds],D[rounds]\n",
        "\n",
        "    def hash(self,m):\n",
        "        blocks = self.pad(m)\n",
        "        # Process each block\n",
        "        A_final,B_final,C_final,D_final = self.a0, self.b0, self.c0, self.d0\n",
        "        for block in self.split_bytes(blocks, self.blocksize_byte):\n",
        "            solver = Solver()\n",
        "            M = [BitVec(f'M1_{i}', self.wordsize_bit // 4) for i in range(self.blocksize_byte)]\n",
        "            for i in range(self.blocksize_byte):\n",
        "              solver.add(M[i] == block[i])\n",
        "            #Compute Hash\n",
        "            A,B,C,D = self.processblockZ3(solver, M, [A_final,B_final,C_final,D_final])\n",
        "            if solver.check() == sat:\n",
        "                model = solver.model()\n",
        "                A_final = (A_final + model[A].as_long()) & self.hexa\n",
        "                B_final = (B_final + model[B].as_long()) & self.hexa\n",
        "                C_final = (C_final + model[C].as_long()) & self.hexa\n",
        "                D_final = (D_final + model[D].as_long()) & self.hexa\n",
        "            else:\n",
        "                print(\"No solution - hashing\")\n",
        "                return 0,0,0,0\n",
        "        return A_final, B_final, C_final, D_final\n",
        "\n",
        "    #digest\n",
        "    def digest(self, m):\n",
        "        A,B,C,D = self.hash(m)\n",
        "        raw = sum(value << (self.wordsize_bit * i) for i, value in enumerate([A,B,C,D])).to_bytes(16, byteorder='little')\n",
        "        hashvalue_hexa = '{:0{width}x}'.format(int.from_bytes(raw[:self.hashlength_byte], byteorder='big'), width = self.wordsize_bit)\n",
        "        return Hash_value(hashvalue_hexa)\n",
        "\n",
        "h1 = MD5_Hash().digest(\"Hello\")\n",
        "print(f\"Hash as Bitstring: {h1.hashvalue_bits} - Hash as Hexastring: {h1.hashvalue_hexa} - Hash as integervalue: {h1.hashvalue_integer}\")"
      ],
      "metadata": {
        "colab": {
          "base_uri": "https://localhost:8080/"
        },
        "id": "ZZVlwWozXcfL",
        "outputId": "27d2af01-a7a6-407d-86d5-47d04079294b"
      },
      "execution_count": 4,
      "outputs": [
        {
          "output_type": "stream",
          "name": "stdout",
          "text": [
            "Hash as Bitstring: 00100100001111101110100010010001111101011000100011001100010111110011101110011011100010000001111011101111000010111000100000000111 - Hash as Hexastring: 243ee891f588cc5f3b9b881eef0b8807 - Hash as integervalue: 48178847336586948930568751920106407943\n"
          ]
        }
      ]
    },
    {
      "cell_type": "markdown",
      "source": [
        "# Collisionfinder"
      ],
      "metadata": {
        "id": "O-UzvO1qXf1x"
      }
    },
    {
      "cell_type": "code",
      "source": [
        "# to find a collision for a hash in md5 light only one block is needed\n",
        "def find_collision(hash_type = \"regular\", collisionpercentage = 100,rounds = 64, timeout = 7200):\n",
        "    \"\"\"\n",
        "    This class implements the collision attack for the MD5 Algorithm and its light-weight variant as a z3 (SAT) implementation\n",
        "    set:\n",
        "      type: light (for MD5 light) or regular (for MD5)\n",
        "      collision_percentage: 100%, 75%, 50%, 25% (default: 100%)\n",
        "      timeout: in seconds (default: 2h)\n",
        "      rounds: 8,16,32,64 (default: 64)\n",
        "    \"\"\"\n",
        "    if rounds > 64 or type(rounds) is not int:\n",
        "            raise ValueError(\"rounds must be int < 64\")\n",
        "    hash_function = MD5_Hash(hash_type)\n",
        "    collisionsolver = Solver()\n",
        "    collisionsolver.set(\"timeout\", timeout * 1000)\n",
        "    M1 = [BitVec(f'M1_{i}', hash_function.wordsize_bit // 4) for i in range(hash_function.blocksize_byte)]\n",
        "    M2 = [BitVec(f'M2_{i}', hash_function.wordsize_bit // 4) for i in range(hash_function.blocksize_byte)]\n",
        "\n",
        "    A1,B1,C1,D1 = hash_function.processblockZ3(collisionsolver, M1, None, '1',rounds)\n",
        "    A2,B2,C2,D2 = hash_function.processblockZ3(collisionsolver, M2, None, '2',rounds)\n",
        "\n",
        "    if collisionpercentage == 100:\n",
        "       collisionsolver.add(And(A1 == A2, B1 == B2, C1==C2, D1 ==D2))\n",
        "    elif collisionpercentage == 75:\n",
        "        collisionsolver.add(And(A1 == A2, B1 == B2, C1==C2))\n",
        "    elif collisionpercentage == 50:\n",
        "        collisionsolver.add(And(A1 == A2, B1 == B2))\n",
        "    elif collisionpercentage == 25:\n",
        "        collisionsolver.add((A1 == A2))\n",
        "\n",
        "    collisionsolver.add(Or([M1[i] != M2[i] for i in range(16)]))\n",
        "    print(f\"Number Constraints: {len(collisionsolver.assertions())}\")\n",
        "    if collisionsolver.check() == sat:\n",
        "        return collisionsolver\n",
        "    print(\"timeout\")\n",
        "    return collisionsolver\n"
      ],
      "metadata": {
        "id": "xpAClwRkZ-Yc"
      },
      "execution_count": null,
      "outputs": []
    }
  ]
}