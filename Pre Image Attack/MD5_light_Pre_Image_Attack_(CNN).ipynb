{
  "nbformat": 4,
  "nbformat_minor": 0,
  "metadata": {
    "colab": {
      "provenance": [],
      "collapsed_sections": [
        "1j0SaNjc0t_r",
        "f1owX_Wj0-D3",
        "W8q-tRcS6Xgq",
        "Dde_wYBCOm6D",
        "WmjPHgRkOEoP",
        "RQlyH1daOS7Q",
        "XsuBVk7ZOb6M",
        "duHZOGNTzDKL",
        "7yFcJOauw86A",
        "a-LmN7Y3OwhS",
        "El70xjJ4KWgb",
        "QSge079PKeZw",
        "wuqeudByKltl",
        "ptQGZYhvy-qF"
      ]
    },
    "kernelspec": {
      "name": "python3",
      "display_name": "Python 3"
    },
    "language_info": {
      "name": "python"
    }
  },
  "cells": [
    {
      "cell_type": "markdown",
      "source": [
        "# MD5 Light Algorithm"
      ],
      "metadata": {
        "id": "1j0SaNjc0t_r"
      }
    },
    {
      "cell_type": "code",
      "execution_count": null,
      "metadata": {
        "colab": {
          "base_uri": "https://localhost:8080/"
        },
        "id": "TAsWQQtx0Wqn",
        "outputId": "ce2133d7-1c18-4755-d8af-122af07082db"
      },
      "outputs": [
        {
          "output_type": "execute_result",
          "data": {
            "text/plain": [
              "'00011011010100110111110010011110'"
            ],
            "application/vnd.google.colaboratory.intrinsic+json": {
              "type": "string"
            }
          },
          "metadata": {},
          "execution_count": 2
        }
      ],
      "source": [
        "import math\n",
        "import struct\n",
        "\n",
        "class Hash_value:\n",
        "    def __init__(self, hashvalue_hexa):\n",
        "        self.hashvalue_hexa = hashvalue_hexa\n",
        "        self.hashvalue_bits = bin(int(hashvalue_hexa, 16))[2:].zfill(len(hashvalue_hexa) * 4)\n",
        "        self.hashvalue_integer =  int(hashvalue_hexa, 16)\n",
        "        self.hashvalue_bytes = bytes.fromhex(self.hashvalue_hexa)\n",
        "\n",
        "class MD5_Hash:\n",
        "    # Constructor (__init__)\n",
        "    def __init__(self, type = \"regular\"):\n",
        "        # Set all Variables and Constants dependend on wordsize_bit\n",
        "        if (type == \"regular\"):\n",
        "            self.wordsize_bit = 32\n",
        "            self.bits_length_rep = 'Q' # 64 bit / 8 Byte\n",
        "            self.padding_length = 64 - 8\n",
        "        elif (type == \"light\"):\n",
        "            self.wordsize_bit = 8\n",
        "            self.bits_length_rep = 'H' # 16 bit / 2 Byte\n",
        "            self.padding_length = 16 - 2\n",
        "        else: raise ValueError(\"hash type must be either light or regular\")\n",
        "        self.wordsize_byte = int(self.wordsize_bit / 8)\n",
        "        self.blocksize_byte = self.wordsize_byte * 16\n",
        "        self.hexa = (1 << (self.wordsize_byte * 8)) - 1\n",
        "        a0, b0, c0, d0 = 0x67452301, 0xEFCDAB89, 0x98BADCFE, 0x10325476\n",
        "        self.Ks = [int(abs(math.sin(i + 1)) * (2**self.wordsize_bit)) & self.hexa for i in range(64)]\n",
        "        self.Ss = list(map(lambda s: s % self.wordsize_bit,[7, 12, 17, 22] * 4 + [5, 9, 14, 20] * 4 + [4, 11, 16, 23] * 4 + [6, 10, 15, 21] * 4))\n",
        "        self.a0,self.b0,self.c0,self.d0 = map(lambda x: int(hex(x)[2:].upper()[:(self.wordsize_byte * 2)],16), [a0, b0, c0, d0])\n",
        "        self.hashlength_bit = 4* self.wordsize_bit\n",
        "        self.hashlength_byte = 4* self.wordsize_byte\n",
        "\n",
        "    #convert Type\n",
        "    def convertType(self,m):\n",
        "        if isinstance(m, bytes):\n",
        "            return m\n",
        "        # Make sure m is converted to byte value\n",
        "        if isinstance(m, str) and all(c in '01' for c in m):  # If input is a bit string\n",
        "            byte_length = (len(m) + 7) // 8  # Compute required byte length\n",
        "            return int(m, 2).to_bytes(byte_length, byteorder=\"big\")\n",
        "        elif isinstance(m, str):  # If input is a message (string)\n",
        "            return m.encode('utf-8') # bytes\n",
        "        else:\n",
        "            raise ValueError(\"Input must be either a message (string) or a valid bit string.\")\n",
        "\n",
        "    #Padding Function\n",
        "    def pad(self,m):\n",
        "        bytes = self.convertType(m)\n",
        "        original_length_bits = len(bytes) * 8\n",
        "        bytes += b'\\x80' #appends 10000000\n",
        "        while len(bytes)%(self.blocksize_byte)!=self.padding_length:\n",
        "            bytes += b'\\x00' #appends 00000000\n",
        "        bytes += struct.pack(f'<{self.bits_length_rep}', original_length_bits) # appends 16 bit /64 bit representation in litte-endian-format of length\n",
        "        return bytes\n",
        "\n",
        "    # Rotation function (rotate left)\n",
        "    def rotate_left(self, x, n):\n",
        "        # Perform a left rotation on a 32-bit integer 'x' by 'n' positions\n",
        "        x &= self.hexa\n",
        "        return ((x << n) | (x >> (self.wordsize_bit - n))) & self.hexa\n",
        "\n",
        "    #digest\n",
        "    def digestABCD(self, A,B,C,D):\n",
        "        raw = sum(value << (self.wordsize_bit * i) for i, value in enumerate([A,B,C,D])).to_bytes(16, byteorder='little')\n",
        "        hashvalue_hexa = '{:0{width}x}'.format(int.from_bytes(raw[:self.hashlength_byte], byteorder='big'), width = self.wordsize_bit)\n",
        "        hv = Hash_value(hashvalue_hexa)\n",
        "        return Hash_value(hashvalue_hexa)\n",
        "\n",
        "    #Hash\n",
        "    def processblock(self, block, inits):\n",
        "        A, B, C, D = inits\n",
        "        for i in range(64):\n",
        "            if i <= 15:\n",
        "                f = (B & C) | (~B & D)\n",
        "                g = i\n",
        "            elif i <= 31:\n",
        "                f = (B & D) | (C & ~D)\n",
        "                g = (5 * i + 1) % 16\n",
        "            elif i <= 47:\n",
        "                f = B ^ C ^ D\n",
        "                g = (3 * i + 5) % 16\n",
        "            elif i <= 63:\n",
        "                f = C ^ (B | ~D)\n",
        "                g = (7 * i) % 16\n",
        "\n",
        "            # Calculate the temporary values\n",
        "            temp = D\n",
        "            D = C\n",
        "            C = B\n",
        "            M = int.from_bytes(block[self.wordsize_byte * g : self.wordsize_byte * g + self.wordsize_byte], byteorder='little')\n",
        "            B = (B + self.rotate_left(A + f + self.Ks[i] + M, self.Ss[i])) & self.hexa\n",
        "            A = temp\n",
        "        return([A,B,C,D])\n",
        "\n",
        "    def digest(self,m):\n",
        "        blocks = self.pad(m)\n",
        "        # Process each block\n",
        "        A_final,B_final,C_final,D_final = self.a0, self.b0, self.c0, self.d0\n",
        "        for offset in range(0, len(blocks), self.blocksize_byte):\n",
        "            block = blocks[ offset : offset + self.blocksize_byte]\n",
        "\n",
        "            #Compute Hash\n",
        "            A,B,C,D = self.processblock(block, [A_final,B_final,C_final,D_final])\n",
        "            A_final, B_final, C_final, D_final = (A_final + A) & self.hexa, (B_final + B) & self.hexa, (C_final + C) & self.hexa, (D_final + D) & self.hexa\n",
        "        return self.digestABCD(A_final, B_final, C_final, D_final)\n",
        "\n",
        "#check correctness by comparing with md5 library\n",
        "import hashlib\n",
        "bytedata = \"Hello World!\".encode('utf-8')\n",
        "md5_hash = hashlib.md5(bytedata).digest()\n",
        "computed_hash = MD5_Hash().digest(bytedata).hashvalue_bytes\n",
        "if (md5_hash != computed_hash):\n",
        "    print(f\"Correct hash:  {md5_hash}\")\n",
        "    print(f\"Computed hash: {computed_hash}\")\n",
        "\n",
        "def md5_light(input_data: str) -> str:\n",
        "    # use MD5 - light to calculate hash\n",
        "    Hash = MD5_Hash('light')\n",
        "    hashvalue = Hash.digest(input_data)\n",
        "    return hashvalue.hashvalue_bits\n",
        "\n",
        "md5_light(\"hello\")"
      ]
    },
    {
      "cell_type": "markdown",
      "source": [
        "# Generate Dataset"
      ],
      "metadata": {
        "id": "f1owX_Wj0-D3"
      }
    },
    {
      "cell_type": "code",
      "source": [
        "from google.colab import drive\n",
        "drive.mount('/content/drive')\n",
        "\n",
        "# Path to Google Drive\n",
        "file_path = '/content/drive/MyDrive/Datasets/'"
      ],
      "metadata": {
        "colab": {
          "base_uri": "https://localhost:8080/"
        },
        "id": "OZ6GIS_D531R",
        "outputId": "5f687e03-a65e-49b3-8534-7e10514fdc1a"
      },
      "execution_count": null,
      "outputs": [
        {
          "output_type": "stream",
          "name": "stdout",
          "text": [
            "Mounted at /content/drive\n"
          ]
        }
      ]
    },
    {
      "cell_type": "markdown",
      "source": [
        "## Dataset for CNN\n",
        "- Features: hash as bitvector\n",
        "- Label: message as bitvector"
      ],
      "metadata": {
        "id": "zyrNbJJDwRp9"
      }
    },
    {
      "cell_type": "code",
      "source": [
        "import numpy as np\n",
        "import random\n",
        "import struct\n",
        "\n",
        "# MD5 Light, returning integer\n",
        "def H(m) -> int:\n",
        "    return MD5_Hash('light').digest(m).hashvalue_bits\n",
        "\n",
        "def generate_bitstring(length):\n",
        "    return ''.join(random.choice('01') for _ in range(length))\n",
        "\n",
        "def generate_random_bitstrings(num_samples, bitlength):\n",
        "    bitstrings = set()\n",
        "    while(len(bitstrings) < num_samples):\n",
        "        bitstring = generate_bitstring(bitlength)\n",
        "        bitstrings.add(bitstring)\n",
        "    return bitstrings\n",
        "\n",
        "def generate_dataset(num_samples=100000, msglength = 104):# 104 bit messages are processed in one block\n",
        "    X = []  # Input (32-Bit-Vectors)\n",
        "    Y = []  # Output (128-Bit-Bitvectors)\n",
        "    msgs = generate_random_bitstrings(num_samples, msglength)\n",
        "    for msg in msgs:\n",
        "        hash = H(msg)  # calculate 32-Bit-Hash\n",
        "        hash_bits = np.array(list(hash), dtype=np.uint8)  # 32 Bit\n",
        "        msg_bits = np.array(list(msg), dtype=np.uint8)  # 128 Bit\n",
        "\n",
        "        X.append(hash_bits)\n",
        "        Y.append(msg_bits)\n",
        "\n",
        "    X = np.array(X, dtype=np.float32)\n",
        "    Y = np.array(Y, dtype=np.float32)\n",
        "\n",
        "    np.save(f\"{file_path}X_CNN_MD5light.npy\", X)\n",
        "    np.save(f\"{file_path}Y_CNN_MD5light.npy\", Y)\n",
        "\n",
        "\n",
        "generate_dataset(1000000)"
      ],
      "metadata": {
        "id": "-SAgWQ4HwSHX"
      },
      "execution_count": null,
      "outputs": []
    },
    {
      "cell_type": "code",
      "source": [
        "!pip install scikeras scikit-optimize"
      ],
      "metadata": {
        "colab": {
          "base_uri": "https://localhost:8080/"
        },
        "id": "m87xtgwVBCcc",
        "outputId": "9459e9b8-a63d-4d16-bde7-9382912f9aec"
      },
      "execution_count": null,
      "outputs": [
        {
          "output_type": "stream",
          "name": "stdout",
          "text": [
            "Collecting scikeras\n",
            "  Downloading scikeras-0.13.0-py3-none-any.whl.metadata (3.1 kB)\n",
            "Collecting scikit-optimize\n",
            "  Downloading scikit_optimize-0.10.2-py2.py3-none-any.whl.metadata (9.7 kB)\n",
            "Requirement already satisfied: keras>=3.2.0 in /usr/local/lib/python3.11/dist-packages (from scikeras) (3.8.0)\n",
            "Requirement already satisfied: scikit-learn>=1.4.2 in /usr/local/lib/python3.11/dist-packages (from scikeras) (1.6.1)\n",
            "Requirement already satisfied: joblib>=0.11 in /usr/local/lib/python3.11/dist-packages (from scikit-optimize) (1.4.2)\n",
            "Collecting pyaml>=16.9 (from scikit-optimize)\n",
            "  Downloading pyaml-25.1.0-py3-none-any.whl.metadata (12 kB)\n",
            "Requirement already satisfied: numpy>=1.20.3 in /usr/local/lib/python3.11/dist-packages (from scikit-optimize) (1.26.4)\n",
            "Requirement already satisfied: scipy>=1.1.0 in /usr/local/lib/python3.11/dist-packages (from scikit-optimize) (1.13.1)\n",
            "Requirement already satisfied: packaging>=21.3 in /usr/local/lib/python3.11/dist-packages (from scikit-optimize) (24.2)\n",
            "Requirement already satisfied: absl-py in /usr/local/lib/python3.11/dist-packages (from keras>=3.2.0->scikeras) (1.4.0)\n",
            "Requirement already satisfied: rich in /usr/local/lib/python3.11/dist-packages (from keras>=3.2.0->scikeras) (13.9.4)\n",
            "Requirement already satisfied: namex in /usr/local/lib/python3.11/dist-packages (from keras>=3.2.0->scikeras) (0.0.8)\n",
            "Requirement already satisfied: h5py in /usr/local/lib/python3.11/dist-packages (from keras>=3.2.0->scikeras) (3.12.1)\n",
            "Requirement already satisfied: optree in /usr/local/lib/python3.11/dist-packages (from keras>=3.2.0->scikeras) (0.14.0)\n",
            "Requirement already satisfied: ml-dtypes in /usr/local/lib/python3.11/dist-packages (from keras>=3.2.0->scikeras) (0.4.1)\n",
            "Requirement already satisfied: PyYAML in /usr/local/lib/python3.11/dist-packages (from pyaml>=16.9->scikit-optimize) (6.0.2)\n",
            "Requirement already satisfied: threadpoolctl>=3.1.0 in /usr/local/lib/python3.11/dist-packages (from scikit-learn>=1.4.2->scikeras) (3.5.0)\n",
            "Requirement already satisfied: typing-extensions>=4.5.0 in /usr/local/lib/python3.11/dist-packages (from optree->keras>=3.2.0->scikeras) (4.12.2)\n",
            "Requirement already satisfied: markdown-it-py>=2.2.0 in /usr/local/lib/python3.11/dist-packages (from rich->keras>=3.2.0->scikeras) (3.0.0)\n",
            "Requirement already satisfied: pygments<3.0.0,>=2.13.0 in /usr/local/lib/python3.11/dist-packages (from rich->keras>=3.2.0->scikeras) (2.18.0)\n",
            "Requirement already satisfied: mdurl~=0.1 in /usr/local/lib/python3.11/dist-packages (from markdown-it-py>=2.2.0->rich->keras>=3.2.0->scikeras) (0.1.2)\n",
            "Downloading scikeras-0.13.0-py3-none-any.whl (26 kB)\n",
            "Downloading scikit_optimize-0.10.2-py2.py3-none-any.whl (107 kB)\n",
            "\u001b[2K   \u001b[90m━━━━━━━━━━━━━━━━━━━━━━━━━━━━━━━━━━━━━━━━\u001b[0m \u001b[32m107.8/107.8 kB\u001b[0m \u001b[31m6.9 MB/s\u001b[0m eta \u001b[36m0:00:00\u001b[0m\n",
            "\u001b[?25hDownloading pyaml-25.1.0-py3-none-any.whl (26 kB)\n",
            "Installing collected packages: pyaml, scikit-optimize, scikeras\n",
            "Successfully installed pyaml-25.1.0 scikeras-0.13.0 scikit-optimize-0.10.2\n"
          ]
        }
      ]
    },
    {
      "cell_type": "markdown",
      "source": [
        "# Convolutional Neural Network Based Pre Image Attack on MD5 Light"
      ],
      "metadata": {
        "id": "7yFcJOauw86A"
      }
    },
    {
      "cell_type": "code",
      "source": [
        "import numpy as np\n",
        "import tensorflow as tf\n",
        "from tensorflow import keras\n",
        "from tensorflow.keras.models import Sequential\n",
        "from tensorflow.keras.layers import Dense, Input, Dropout, Conv1D, MaxPooling1D, Flatten\n",
        "from tensorflow.keras.optimizers import Adam\n",
        "from sklearn.model_selection import train_test_split"
      ],
      "metadata": {
        "id": "QL8V-xE6w76B"
      },
      "execution_count": null,
      "outputs": []
    },
    {
      "cell_type": "code",
      "source": [
        "# load Dataset\n",
        "X = np.load(f\"{file_path}X_CNN_MD5light.npy\")  # Normalisierte Hashwerte\n",
        "Y = np.load(f\"{file_path}Y_CNN_MD5light.npy\")  # 104-Bit-Nachrichten als Bitvektoren\n",
        "\n",
        "# Überprüfen der Datenform\n",
        "print(f\"X Shape: {X.shape}\")  # (100000, 1)\n",
        "print(f\"Y Shape: {Y.shape}\")  # (100000, 104)\n",
        "\n",
        "# 80% Training, 20% Test\n",
        "X_train, X_test, Y_train, Y_test = train_test_split(X, Y, test_size=0.2, random_state=42)"
      ],
      "metadata": {
        "colab": {
          "base_uri": "https://localhost:8080/"
        },
        "id": "g8ORWUqZxVcs",
        "outputId": "a1a25263-a3c3-42ed-f462-7d17f6cba902"
      },
      "execution_count": null,
      "outputs": [
        {
          "output_type": "stream",
          "name": "stdout",
          "text": [
            "X Shape: (100000, 32)\n",
            "Y Shape: (100000, 104)\n"
          ]
        }
      ]
    },
    {
      "cell_type": "code",
      "source": [
        "import tensorflow as tf\n",
        "from tensorflow import keras\n",
        "from tensorflow.keras import layers\n",
        "import numpy as np\n",
        "from sklearn.model_selection import train_test_split\n",
        "from tensorflow.keras.callbacks import EarlyStopping\n",
        "import time\n",
        "import tracemalloc\n",
        "from colorama import Fore, Style\n",
        "\n",
        "# === Define the Network ===\n",
        "\n",
        "# Hyperparameters to use\n",
        "num_filters = 64\n",
        "kernel_size = 2\n",
        "num_conv_layers = 3\n",
        "dense_units = 128\n",
        "learning_rate =  0.000976\n",
        "batch_size = 160\n",
        "activation = \"relu\"\n",
        "\n",
        "#Leaky relu\n",
        "if activation == \"leaky_relu\":\n",
        "    activation_func = layers.LeakyReLU()\n",
        "else:\n",
        "  activation_func = activation\n",
        "\n",
        " # === Build CNN Model ===\n",
        "model = keras.Sequential()\n",
        "model.add(layers.Input(shape=(32,1)))\n",
        "for _ in range(num_conv_layers):\n",
        "  model.add(layers.Conv1D(filters=num_filters, kernel_size=kernel_size, activation=activation_func, strides=1, padding='same'))\n",
        "  model.add(layers.MaxPooling1D(pool_size=2))\n",
        "model.add(layers.Flatten())\n",
        "model.add(layers.Dense(dense_units, activation=activation_func))\n",
        "model.add(layers.Dense(dense_units, activation=activation_func))\n",
        "model.add(layers.Dense(104, activation=\"sigmoid\"))\n",
        "\n",
        "# === Compile Model ===\n",
        "model.compile(optimizer=keras.optimizers.Adam(learning_rate=learning_rate), loss=\"binary_crossentropy\", metrics=[\"accuracy\"])\n",
        "model.summary()"
      ],
      "metadata": {
        "colab": {
          "base_uri": "https://localhost:8080/",
          "height": 449
        },
        "id": "iuzUyYb6xaKN",
        "outputId": "bda2fb6c-47a0-4c7e-a84b-3417aa39fa6a"
      },
      "execution_count": null,
      "outputs": [
        {
          "output_type": "display_data",
          "data": {
            "text/plain": [
              "\u001b[1mModel: \"sequential_1\"\u001b[0m\n"
            ],
            "text/html": [
              "<pre style=\"white-space:pre;overflow-x:auto;line-height:normal;font-family:Menlo,'DejaVu Sans Mono',consolas,'Courier New',monospace\"><span style=\"font-weight: bold\">Model: \"sequential_1\"</span>\n",
              "</pre>\n"
            ]
          },
          "metadata": {}
        },
        {
          "output_type": "display_data",
          "data": {
            "text/plain": [
              "┏━━━━━━━━━━━━━━━━━━━━━━━━━━━━━━━━━━━━━━┳━━━━━━━━━━━━━━━━━━━━━━━━━━━━━┳━━━━━━━━━━━━━━━━━┓\n",
              "┃\u001b[1m \u001b[0m\u001b[1mLayer (type)                        \u001b[0m\u001b[1m \u001b[0m┃\u001b[1m \u001b[0m\u001b[1mOutput Shape               \u001b[0m\u001b[1m \u001b[0m┃\u001b[1m \u001b[0m\u001b[1m        Param #\u001b[0m\u001b[1m \u001b[0m┃\n",
              "┡━━━━━━━━━━━━━━━━━━━━━━━━━━━━━━━━━━━━━━╇━━━━━━━━━━━━━━━━━━━━━━━━━━━━━╇━━━━━━━━━━━━━━━━━┩\n",
              "│ conv1d_3 (\u001b[38;5;33mConv1D\u001b[0m)                    │ (\u001b[38;5;45mNone\u001b[0m, \u001b[38;5;34m32\u001b[0m, \u001b[38;5;34m64\u001b[0m)              │             \u001b[38;5;34m192\u001b[0m │\n",
              "├──────────────────────────────────────┼─────────────────────────────┼─────────────────┤\n",
              "│ max_pooling1d_3 (\u001b[38;5;33mMaxPooling1D\u001b[0m)       │ (\u001b[38;5;45mNone\u001b[0m, \u001b[38;5;34m16\u001b[0m, \u001b[38;5;34m64\u001b[0m)              │               \u001b[38;5;34m0\u001b[0m │\n",
              "├──────────────────────────────────────┼─────────────────────────────┼─────────────────┤\n",
              "│ conv1d_4 (\u001b[38;5;33mConv1D\u001b[0m)                    │ (\u001b[38;5;45mNone\u001b[0m, \u001b[38;5;34m16\u001b[0m, \u001b[38;5;34m64\u001b[0m)              │           \u001b[38;5;34m8,256\u001b[0m │\n",
              "├──────────────────────────────────────┼─────────────────────────────┼─────────────────┤\n",
              "│ max_pooling1d_4 (\u001b[38;5;33mMaxPooling1D\u001b[0m)       │ (\u001b[38;5;45mNone\u001b[0m, \u001b[38;5;34m8\u001b[0m, \u001b[38;5;34m64\u001b[0m)               │               \u001b[38;5;34m0\u001b[0m │\n",
              "├──────────────────────────────────────┼─────────────────────────────┼─────────────────┤\n",
              "│ conv1d_5 (\u001b[38;5;33mConv1D\u001b[0m)                    │ (\u001b[38;5;45mNone\u001b[0m, \u001b[38;5;34m8\u001b[0m, \u001b[38;5;34m64\u001b[0m)               │           \u001b[38;5;34m8,256\u001b[0m │\n",
              "├──────────────────────────────────────┼─────────────────────────────┼─────────────────┤\n",
              "│ max_pooling1d_5 (\u001b[38;5;33mMaxPooling1D\u001b[0m)       │ (\u001b[38;5;45mNone\u001b[0m, \u001b[38;5;34m4\u001b[0m, \u001b[38;5;34m64\u001b[0m)               │               \u001b[38;5;34m0\u001b[0m │\n",
              "├──────────────────────────────────────┼─────────────────────────────┼─────────────────┤\n",
              "│ flatten_1 (\u001b[38;5;33mFlatten\u001b[0m)                  │ (\u001b[38;5;45mNone\u001b[0m, \u001b[38;5;34m256\u001b[0m)                 │               \u001b[38;5;34m0\u001b[0m │\n",
              "├──────────────────────────────────────┼─────────────────────────────┼─────────────────┤\n",
              "│ dense_3 (\u001b[38;5;33mDense\u001b[0m)                      │ (\u001b[38;5;45mNone\u001b[0m, \u001b[38;5;34m128\u001b[0m)                 │          \u001b[38;5;34m32,896\u001b[0m │\n",
              "├──────────────────────────────────────┼─────────────────────────────┼─────────────────┤\n",
              "│ dense_4 (\u001b[38;5;33mDense\u001b[0m)                      │ (\u001b[38;5;45mNone\u001b[0m, \u001b[38;5;34m128\u001b[0m)                 │          \u001b[38;5;34m16,512\u001b[0m │\n",
              "├──────────────────────────────────────┼─────────────────────────────┼─────────────────┤\n",
              "│ dense_5 (\u001b[38;5;33mDense\u001b[0m)                      │ (\u001b[38;5;45mNone\u001b[0m, \u001b[38;5;34m104\u001b[0m)                 │          \u001b[38;5;34m13,416\u001b[0m │\n",
              "└──────────────────────────────────────┴─────────────────────────────┴─────────────────┘\n"
            ],
            "text/html": [
              "<pre style=\"white-space:pre;overflow-x:auto;line-height:normal;font-family:Menlo,'DejaVu Sans Mono',consolas,'Courier New',monospace\">┏━━━━━━━━━━━━━━━━━━━━━━━━━━━━━━━━━━━━━━┳━━━━━━━━━━━━━━━━━━━━━━━━━━━━━┳━━━━━━━━━━━━━━━━━┓\n",
              "┃<span style=\"font-weight: bold\"> Layer (type)                         </span>┃<span style=\"font-weight: bold\"> Output Shape                </span>┃<span style=\"font-weight: bold\">         Param # </span>┃\n",
              "┡━━━━━━━━━━━━━━━━━━━━━━━━━━━━━━━━━━━━━━╇━━━━━━━━━━━━━━━━━━━━━━━━━━━━━╇━━━━━━━━━━━━━━━━━┩\n",
              "│ conv1d_3 (<span style=\"color: #0087ff; text-decoration-color: #0087ff\">Conv1D</span>)                    │ (<span style=\"color: #00d7ff; text-decoration-color: #00d7ff\">None</span>, <span style=\"color: #00af00; text-decoration-color: #00af00\">32</span>, <span style=\"color: #00af00; text-decoration-color: #00af00\">64</span>)              │             <span style=\"color: #00af00; text-decoration-color: #00af00\">192</span> │\n",
              "├──────────────────────────────────────┼─────────────────────────────┼─────────────────┤\n",
              "│ max_pooling1d_3 (<span style=\"color: #0087ff; text-decoration-color: #0087ff\">MaxPooling1D</span>)       │ (<span style=\"color: #00d7ff; text-decoration-color: #00d7ff\">None</span>, <span style=\"color: #00af00; text-decoration-color: #00af00\">16</span>, <span style=\"color: #00af00; text-decoration-color: #00af00\">64</span>)              │               <span style=\"color: #00af00; text-decoration-color: #00af00\">0</span> │\n",
              "├──────────────────────────────────────┼─────────────────────────────┼─────────────────┤\n",
              "│ conv1d_4 (<span style=\"color: #0087ff; text-decoration-color: #0087ff\">Conv1D</span>)                    │ (<span style=\"color: #00d7ff; text-decoration-color: #00d7ff\">None</span>, <span style=\"color: #00af00; text-decoration-color: #00af00\">16</span>, <span style=\"color: #00af00; text-decoration-color: #00af00\">64</span>)              │           <span style=\"color: #00af00; text-decoration-color: #00af00\">8,256</span> │\n",
              "├──────────────────────────────────────┼─────────────────────────────┼─────────────────┤\n",
              "│ max_pooling1d_4 (<span style=\"color: #0087ff; text-decoration-color: #0087ff\">MaxPooling1D</span>)       │ (<span style=\"color: #00d7ff; text-decoration-color: #00d7ff\">None</span>, <span style=\"color: #00af00; text-decoration-color: #00af00\">8</span>, <span style=\"color: #00af00; text-decoration-color: #00af00\">64</span>)               │               <span style=\"color: #00af00; text-decoration-color: #00af00\">0</span> │\n",
              "├──────────────────────────────────────┼─────────────────────────────┼─────────────────┤\n",
              "│ conv1d_5 (<span style=\"color: #0087ff; text-decoration-color: #0087ff\">Conv1D</span>)                    │ (<span style=\"color: #00d7ff; text-decoration-color: #00d7ff\">None</span>, <span style=\"color: #00af00; text-decoration-color: #00af00\">8</span>, <span style=\"color: #00af00; text-decoration-color: #00af00\">64</span>)               │           <span style=\"color: #00af00; text-decoration-color: #00af00\">8,256</span> │\n",
              "├──────────────────────────────────────┼─────────────────────────────┼─────────────────┤\n",
              "│ max_pooling1d_5 (<span style=\"color: #0087ff; text-decoration-color: #0087ff\">MaxPooling1D</span>)       │ (<span style=\"color: #00d7ff; text-decoration-color: #00d7ff\">None</span>, <span style=\"color: #00af00; text-decoration-color: #00af00\">4</span>, <span style=\"color: #00af00; text-decoration-color: #00af00\">64</span>)               │               <span style=\"color: #00af00; text-decoration-color: #00af00\">0</span> │\n",
              "├──────────────────────────────────────┼─────────────────────────────┼─────────────────┤\n",
              "│ flatten_1 (<span style=\"color: #0087ff; text-decoration-color: #0087ff\">Flatten</span>)                  │ (<span style=\"color: #00d7ff; text-decoration-color: #00d7ff\">None</span>, <span style=\"color: #00af00; text-decoration-color: #00af00\">256</span>)                 │               <span style=\"color: #00af00; text-decoration-color: #00af00\">0</span> │\n",
              "├──────────────────────────────────────┼─────────────────────────────┼─────────────────┤\n",
              "│ dense_3 (<span style=\"color: #0087ff; text-decoration-color: #0087ff\">Dense</span>)                      │ (<span style=\"color: #00d7ff; text-decoration-color: #00d7ff\">None</span>, <span style=\"color: #00af00; text-decoration-color: #00af00\">128</span>)                 │          <span style=\"color: #00af00; text-decoration-color: #00af00\">32,896</span> │\n",
              "├──────────────────────────────────────┼─────────────────────────────┼─────────────────┤\n",
              "│ dense_4 (<span style=\"color: #0087ff; text-decoration-color: #0087ff\">Dense</span>)                      │ (<span style=\"color: #00d7ff; text-decoration-color: #00d7ff\">None</span>, <span style=\"color: #00af00; text-decoration-color: #00af00\">128</span>)                 │          <span style=\"color: #00af00; text-decoration-color: #00af00\">16,512</span> │\n",
              "├──────────────────────────────────────┼─────────────────────────────┼─────────────────┤\n",
              "│ dense_5 (<span style=\"color: #0087ff; text-decoration-color: #0087ff\">Dense</span>)                      │ (<span style=\"color: #00d7ff; text-decoration-color: #00d7ff\">None</span>, <span style=\"color: #00af00; text-decoration-color: #00af00\">104</span>)                 │          <span style=\"color: #00af00; text-decoration-color: #00af00\">13,416</span> │\n",
              "└──────────────────────────────────────┴─────────────────────────────┴─────────────────┘\n",
              "</pre>\n"
            ]
          },
          "metadata": {}
        },
        {
          "output_type": "display_data",
          "data": {
            "text/plain": [
              "\u001b[1m Total params: \u001b[0m\u001b[38;5;34m79,528\u001b[0m (310.66 KB)\n"
            ],
            "text/html": [
              "<pre style=\"white-space:pre;overflow-x:auto;line-height:normal;font-family:Menlo,'DejaVu Sans Mono',consolas,'Courier New',monospace\"><span style=\"font-weight: bold\"> Total params: </span><span style=\"color: #00af00; text-decoration-color: #00af00\">79,528</span> (310.66 KB)\n",
              "</pre>\n"
            ]
          },
          "metadata": {}
        },
        {
          "output_type": "display_data",
          "data": {
            "text/plain": [
              "\u001b[1m Trainable params: \u001b[0m\u001b[38;5;34m79,528\u001b[0m (310.66 KB)\n"
            ],
            "text/html": [
              "<pre style=\"white-space:pre;overflow-x:auto;line-height:normal;font-family:Menlo,'DejaVu Sans Mono',consolas,'Courier New',monospace\"><span style=\"font-weight: bold\"> Trainable params: </span><span style=\"color: #00af00; text-decoration-color: #00af00\">79,528</span> (310.66 KB)\n",
              "</pre>\n"
            ]
          },
          "metadata": {}
        },
        {
          "output_type": "display_data",
          "data": {
            "text/plain": [
              "\u001b[1m Non-trainable params: \u001b[0m\u001b[38;5;34m0\u001b[0m (0.00 B)\n"
            ],
            "text/html": [
              "<pre style=\"white-space:pre;overflow-x:auto;line-height:normal;font-family:Menlo,'DejaVu Sans Mono',consolas,'Courier New',monospace\"><span style=\"font-weight: bold\"> Non-trainable params: </span><span style=\"color: #00af00; text-decoration-color: #00af00\">0</span> (0.00 B)\n",
              "</pre>\n"
            ]
          },
          "metadata": {}
        }
      ]
    },
    {
      "cell_type": "code",
      "source": [
        "# === Track Time and Memory Usage ===\n",
        "tracemalloc.start()\n",
        "start_time = time.time()\n",
        "\n",
        "# === Train model ===\n",
        "early_stopping = EarlyStopping(monitor='val_loss',patience=5,restore_best_weights=True)\n",
        "history = model.fit(X_train, Y_train, epochs=50, batch_size=batch_size, validation_data=(X_test, Y_test), callbacks = [early_stopping])\n",
        "\n",
        "# === Output Time taken and memory used ===\n",
        "_, peak = tracemalloc.get_traced_memory()  # Memory in bytes\n",
        "tracemalloc.stop() # Stop tracking\n",
        "elapsed_time = time.time() - start_time\n",
        "print(Fore.RED + f\"Time taken: {(elapsed_time / 60):.2f}min\" + Style.RESET_ALL)\n",
        "print(Fore.GREEN + f\"Memory Used: {peak:.2f} MB\" + Style.RESET_ALL)"
      ],
      "metadata": {
        "colab": {
          "base_uri": "https://localhost:8080/"
        },
        "id": "su0LT_IKxgzY",
        "outputId": "4923d20f-0b5c-439f-943c-979c3d11e5e1"
      },
      "execution_count": null,
      "outputs": [
        {
          "output_type": "stream",
          "name": "stdout",
          "text": [
            "Epoch 1/50\n",
            "\u001b[1m500/500\u001b[0m \u001b[32m━━━━━━━━━━━━━━━━━━━━\u001b[0m\u001b[37m\u001b[0m \u001b[1m23s\u001b[0m 30ms/step - accuracy: 1.1450e-04 - loss: 0.6932 - val_accuracy: 2.0000e-04 - val_loss: 0.6932\n",
            "Epoch 2/50\n",
            "\u001b[1m500/500\u001b[0m \u001b[32m━━━━━━━━━━━━━━━━━━━━\u001b[0m\u001b[37m\u001b[0m \u001b[1m14s\u001b[0m 28ms/step - accuracy: 0.0000e+00 - loss: 0.6932 - val_accuracy: 0.0000e+00 - val_loss: 0.6932\n",
            "Epoch 3/50\n",
            "\u001b[1m500/500\u001b[0m \u001b[32m━━━━━━━━━━━━━━━━━━━━\u001b[0m\u001b[37m\u001b[0m \u001b[1m14s\u001b[0m 28ms/step - accuracy: 0.0000e+00 - loss: 0.6931 - val_accuracy: 0.0000e+00 - val_loss: 0.6932\n",
            "Epoch 4/50\n",
            "\u001b[1m500/500\u001b[0m \u001b[32m━━━━━━━━━━━━━━━━━━━━\u001b[0m\u001b[37m\u001b[0m \u001b[1m15s\u001b[0m 29ms/step - accuracy: 6.1024e-04 - loss: 0.6931 - val_accuracy: 0.0000e+00 - val_loss: 0.6932\n",
            "Epoch 5/50\n",
            "\u001b[1m500/500\u001b[0m \u001b[32m━━━━━━━━━━━━━━━━━━━━\u001b[0m\u001b[37m\u001b[0m \u001b[1m13s\u001b[0m 26ms/step - accuracy: 9.5975e-04 - loss: 0.6932 - val_accuracy: 0.0000e+00 - val_loss: 0.6932\n",
            "Epoch 6/50\n",
            "\u001b[1m500/500\u001b[0m \u001b[32m━━━━━━━━━━━━━━━━━━━━\u001b[0m\u001b[37m\u001b[0m \u001b[1m21s\u001b[0m 28ms/step - accuracy: 0.0000e+00 - loss: 0.6931 - val_accuracy: 0.0000e+00 - val_loss: 0.6932\n",
            "Epoch 7/50\n",
            "\u001b[1m500/500\u001b[0m \u001b[32m━━━━━━━━━━━━━━━━━━━━\u001b[0m\u001b[37m\u001b[0m \u001b[1m21s\u001b[0m 29ms/step - accuracy: 0.0000e+00 - loss: 0.6932 - val_accuracy: 0.0000e+00 - val_loss: 0.6932\n",
            "\u001b[31mTime taken: 2.02min\u001b[0m\n",
            "\u001b[32mMemory Used: 83028149.00 MB\u001b[0m\n"
          ]
        }
      ]
    },
    {
      "cell_type": "markdown",
      "source": [
        "## Bayesian Optimization"
      ],
      "metadata": {
        "id": "ptQGZYhvy-qF"
      }
    },
    {
      "cell_type": "code",
      "source": [
        "import optuna\n",
        "import tensorflow as tf\n",
        "from tensorflow import keras\n",
        "from tensorflow.keras import layers\n",
        "import numpy as np\n",
        "from sklearn.model_selection import train_test_split\n",
        "from tensorflow.keras.callbacks import EarlyStopping\n",
        "import time\n",
        "import tracemalloc\n",
        "from colorama import Fore, Style\n",
        "\n",
        "historys = []\n",
        "params_ = []\n",
        "trial_times = []\n",
        "trial_memory = []\n",
        "\n",
        "# === Define the Objective Function for Optuna ===\n",
        "def objective(trial):\n",
        "    # === Track Time and Memory Usage ===\n",
        "    tracemalloc.start()\n",
        "    start_time = time.time()\n",
        "\n",
        "    # Hyperparameters to tune\n",
        "    num_filters = trial.suggest_int(\"num_filters\", 32, 128, step=32)\n",
        "    kernel_size = trial.suggest_int(\"kernel_size\", 2, 5, step=1)\n",
        "    num_conv_layers = trial.suggest_int(\"num_conv_layers\", 2, 4, step=1)\n",
        "    dense_units = trial.suggest_int(\"dense_units\", 64, 128, step=32)\n",
        "    learning_rate = trial.suggest_float(\"learning_rate\", 1e-4, 1e-2, log=True)\n",
        "    batch_size = trial.suggest_int(\"batch_size\", 32, 1024, step=32)\n",
        "    activation = trial.suggest_categorical(\"activation\", [\"relu\", \"leaky_relu\",\"selu\"])\n",
        "\n",
        "    #Leaky relu\n",
        "    if activation == \"leaky_relu\":\n",
        "        activation_func = layers.LeakyReLU()\n",
        "    else:\n",
        "      activation_func = activation\n",
        "\n",
        "    # === Build CNN Model ===\n",
        "    model = keras.Sequential()\n",
        "    model.add(layers.Input(shape=(32,1)))\n",
        "\n",
        "    for _ in range(num_conv_layers):\n",
        "      model.add(layers.Conv1D(filters=num_filters, kernel_size=kernel_size, activation=activation_func, strides=1, padding='same'))\n",
        "      model.add(layers.MaxPooling1D(pool_size=2))\n",
        "\n",
        "    model.add(layers.Flatten())\n",
        "    model.add(layers.Dense(dense_units, activation=activation_func))\n",
        "    model.add(layers.Dense(dense_units, activation=activation_func))\n",
        "    model.add(layers.Dense(104, activation=\"sigmoid\"))\n",
        "\n",
        "    # Compile model\n",
        "    model.compile(optimizer=keras.optimizers.Adam(learning_rate=learning_rate),\n",
        "                  loss=\"binary_crossentropy\",\n",
        "                  metrics=[\"accuracy\"])\n",
        "\n",
        "    # Train model\n",
        "    early_stopping = EarlyStopping(\n",
        "        monitor='val_loss',\n",
        "        patience=10,\n",
        "        restore_best_weights=True\n",
        "    )\n",
        "\n",
        "    history = model.fit(X_train, Y_train, validation_data=(X_test, Y_test),\n",
        "                        epochs=50, batch_size=batch_size, verbose=0, callbacks=[early_stopping])\n",
        "\n",
        "    historys.append(history)\n",
        "    params_.append([num_filters, kernel_size, num_conv_layers, dense_units, learning_rate, batch_size, activation])\n",
        "\n",
        "    _, peak = tracemalloc.get_traced_memory()  # Memory in bytes\n",
        "    tracemalloc.stop() # Stop tracking\n",
        "    elapsed_time = time.time() - start_time\n",
        "    trial_times.append(elapsed_time)\n",
        "    trial_memory.append(peak / 1e6)\n",
        "    # Evaluate accuracy\n",
        "    val_loss = history.history['val_loss'][-1]\n",
        "\n",
        "    return val_loss\n",
        "\n",
        "# === Run Optuna Optimization ===\n",
        "study = optuna.create_study(direction=\"minimize\")\n",
        "study.optimize(objective, n_trials=20)\n",
        "\n",
        "# === Print best hyperparameters ===\n",
        "print(Fore.CYAN + f\"\\nBest Hyperparameters: {study.best_params}\" + Style.RESET_ALL)\n",
        "\n",
        "# === Output Time taken and memory used ===\n",
        "print(Fore.RED + f\"Total Time taken: {(sum(trial_times)/60):.2f}min\" + Style.RESET_ALL)\n",
        "print(Fore.YELLOW + f\"Average Time Per Trial: {sum(trial_times)/len(trial_times):.2f}s\" + Style.RESET_ALL)\n",
        "print(Fore.GREEN + f\"Average Memory Used: {sum(trial_memory)/len(trial_memory):.2f} MB\" + Style.RESET_ALL)\n"
      ],
      "metadata": {
        "colab": {
          "base_uri": "https://localhost:8080/"
        },
        "outputId": "39cb4a9b-9366-4720-bb80-e2d99a1ffcda",
        "id": "wVxadsQjy-qG"
      },
      "execution_count": null,
      "outputs": [
        {
          "output_type": "stream",
          "name": "stderr",
          "text": [
            "[I 2025-02-08 11:32:58,326] A new study created in memory with name: no-name-1abda215-243d-408e-96f7-3394e2b8f188\n",
            "[I 2025-02-08 11:37:23,442] Trial 0 finished with value: 0.6931570768356323 and parameters: {'num_filters': 64, 'kernel_size': 2, 'num_conv_layers': 3, 'dense_units': 128, 'learning_rate': 0.0009759407201892074, 'batch_size': 160, 'activation': 'relu'}. Best is trial 0 with value: 0.6931570768356323.\n",
            "[I 2025-02-08 11:41:08,876] Trial 1 finished with value: 0.6931825280189514 and parameters: {'num_filters': 64, 'kernel_size': 4, 'num_conv_layers': 3, 'dense_units': 128, 'learning_rate': 0.005511098545010838, 'batch_size': 736, 'activation': 'relu'}. Best is trial 0 with value: 0.6931570768356323.\n",
            "[I 2025-02-08 11:49:27,814] Trial 2 finished with value: 0.6932108402252197 and parameters: {'num_filters': 128, 'kernel_size': 4, 'num_conv_layers': 4, 'dense_units': 128, 'learning_rate': 0.003423337988331121, 'batch_size': 1024, 'activation': 'leaky_relu'}. Best is trial 0 with value: 0.6931570768356323.\n",
            "[I 2025-02-08 11:52:49,878] Trial 3 finished with value: 0.6932579874992371 and parameters: {'num_filters': 32, 'kernel_size': 5, 'num_conv_layers': 2, 'dense_units': 96, 'learning_rate': 0.005932908882640148, 'batch_size': 64, 'activation': 'relu'}. Best is trial 0 with value: 0.6931570768356323.\n",
            "[I 2025-02-08 11:54:43,952] Trial 4 finished with value: 0.6932148337364197 and parameters: {'num_filters': 64, 'kernel_size': 2, 'num_conv_layers': 4, 'dense_units': 64, 'learning_rate': 0.008436581619492829, 'batch_size': 960, 'activation': 'leaky_relu'}. Best is trial 0 with value: 0.6931570768356323.\n",
            "[I 2025-02-08 11:56:13,083] Trial 5 finished with value: 0.6936442852020264 and parameters: {'num_filters': 32, 'kernel_size': 4, 'num_conv_layers': 3, 'dense_units': 96, 'learning_rate': 0.002622519780357738, 'batch_size': 544, 'activation': 'leaky_relu'}. Best is trial 0 with value: 0.6931570768356323.\n",
            "[I 2025-02-08 11:59:47,808] Trial 6 finished with value: 0.6936737298965454 and parameters: {'num_filters': 96, 'kernel_size': 3, 'num_conv_layers': 2, 'dense_units': 64, 'learning_rate': 0.004346829116440616, 'batch_size': 832, 'activation': 'leaky_relu'}. Best is trial 0 with value: 0.6931570768356323.\n",
            "[I 2025-02-08 12:07:11,509] Trial 7 finished with value: 0.69392991065979 and parameters: {'num_filters': 96, 'kernel_size': 3, 'num_conv_layers': 4, 'dense_units': 64, 'learning_rate': 0.0009990435590488277, 'batch_size': 128, 'activation': 'selu'}. Best is trial 0 with value: 0.6931570768356323.\n",
            "[I 2025-02-08 12:10:46,090] Trial 8 finished with value: 0.6933977603912354 and parameters: {'num_filters': 64, 'kernel_size': 4, 'num_conv_layers': 4, 'dense_units': 64, 'learning_rate': 0.00019918521521495832, 'batch_size': 320, 'activation': 'leaky_relu'}. Best is trial 0 with value: 0.6931570768356323.\n",
            "[I 2025-02-08 12:14:50,813] Trial 9 finished with value: 0.6932074427604675 and parameters: {'num_filters': 128, 'kernel_size': 3, 'num_conv_layers': 2, 'dense_units': 128, 'learning_rate': 0.0014647022931618121, 'batch_size': 1024, 'activation': 'relu'}. Best is trial 0 with value: 0.6931570768356323.\n",
            "[I 2025-02-08 12:17:06,252] Trial 10 finished with value: 0.6934689283370972 and parameters: {'num_filters': 32, 'kernel_size': 2, 'num_conv_layers': 3, 'dense_units': 128, 'learning_rate': 0.00033639558467351573, 'batch_size': 352, 'activation': 'selu'}. Best is trial 0 with value: 0.6931570768356323.\n",
            "[I 2025-02-08 12:21:38,109] Trial 11 finished with value: 0.6932728290557861 and parameters: {'num_filters': 64, 'kernel_size': 5, 'num_conv_layers': 3, 'dense_units': 128, 'learning_rate': 0.0006643621290259698, 'batch_size': 672, 'activation': 'relu'}. Best is trial 0 with value: 0.6931570768356323.\n",
            "[I 2025-02-08 12:23:45,653] Trial 12 finished with value: 0.6932013630867004 and parameters: {'num_filters': 64, 'kernel_size': 2, 'num_conv_layers': 3, 'dense_units': 96, 'learning_rate': 0.0004821375032760688, 'batch_size': 704, 'activation': 'relu'}. Best is trial 0 with value: 0.6931570768356323.\n",
            "[I 2025-02-08 12:31:12,063] Trial 13 finished with value: 0.6931612491607666 and parameters: {'num_filters': 96, 'kernel_size': 4, 'num_conv_layers': 3, 'dense_units': 128, 'learning_rate': 0.0020227513531903044, 'batch_size': 352, 'activation': 'relu'}. Best is trial 0 with value: 0.6931570768356323.\n",
            "[I 2025-02-08 12:35:44,154] Trial 14 finished with value: 0.6931594014167786 and parameters: {'num_filters': 96, 'kernel_size': 3, 'num_conv_layers': 3, 'dense_units': 128, 'learning_rate': 0.0016479252901745321, 'batch_size': 256, 'activation': 'relu'}. Best is trial 0 with value: 0.6931570768356323.\n",
            "[I 2025-02-08 12:38:45,173] Trial 15 finished with value: 0.6932106018066406 and parameters: {'num_filters': 96, 'kernel_size': 2, 'num_conv_layers': 2, 'dense_units': 96, 'learning_rate': 0.0001049478617545322, 'batch_size': 224, 'activation': 'relu'}. Best is trial 0 with value: 0.6931570768356323.\n",
            "[I 2025-02-08 12:57:49,762] Trial 16 finished with value: 0.6931577920913696 and parameters: {'num_filters': 128, 'kernel_size': 3, 'num_conv_layers': 3, 'dense_units': 128, 'learning_rate': 0.0010582219424572637, 'batch_size': 192, 'activation': 'relu'}. Best is trial 0 with value: 0.6931570768356323.\n",
            "[I 2025-02-08 13:05:30,053] Trial 17 finished with value: 0.6943572759628296 and parameters: {'num_filters': 128, 'kernel_size': 2, 'num_conv_layers': 4, 'dense_units': 96, 'learning_rate': 0.0010479480295300686, 'batch_size': 448, 'activation': 'selu'}. Best is trial 0 with value: 0.6931570768356323.\n",
            "[I 2025-02-08 13:26:28,978] Trial 18 finished with value: 0.6931644082069397 and parameters: {'num_filters': 128, 'kernel_size': 3, 'num_conv_layers': 2, 'dense_units': 128, 'learning_rate': 0.000716769122754828, 'batch_size': 32, 'activation': 'relu'}. Best is trial 0 with value: 0.6931570768356323.\n",
            "[I 2025-02-08 13:28:18,662] Trial 19 finished with value: 0.6933364272117615 and parameters: {'num_filters': 32, 'kernel_size': 2, 'num_conv_layers': 3, 'dense_units': 128, 'learning_rate': 0.00030923220037367777, 'batch_size': 192, 'activation': 'relu'}. Best is trial 0 with value: 0.6931570768356323.\n"
          ]
        },
        {
          "output_type": "stream",
          "name": "stdout",
          "text": [
            "\u001b[36m\n",
            "Best Hyperparameters: {'num_filters': 64, 'kernel_size': 2, 'num_conv_layers': 3, 'dense_units': 128, 'learning_rate': 0.0009759407201892074, 'batch_size': 160, 'activation': 'relu'}\u001b[0m\n",
            "\u001b[31mTotal Time taken: 115.34min\u001b[0m\n",
            "\u001b[33mAverage Time Per Trial: 346.01s\u001b[0m\n",
            "\u001b[32mAverage Memory Used: 63.76 MB\u001b[0m\n"
          ]
        }
      ]
    },
    {
      "cell_type": "markdown",
      "source": [
        "# Installations\n"
      ],
      "metadata": {
        "id": "Wt-yoVoqSDBC"
      }
    },
    {
      "cell_type": "code",
      "source": [
        "!pip install colorama"
      ],
      "metadata": {
        "colab": {
          "base_uri": "https://localhost:8080/"
        },
        "id": "pNtN5KqsSJXo",
        "outputId": "87128189-f54f-49ed-c68a-dc3249881b33"
      },
      "execution_count": null,
      "outputs": [
        {
          "output_type": "stream",
          "name": "stdout",
          "text": [
            "Collecting colorama\n",
            "  Downloading colorama-0.4.6-py2.py3-none-any.whl.metadata (17 kB)\n",
            "Downloading colorama-0.4.6-py2.py3-none-any.whl (25 kB)\n",
            "Installing collected packages: colorama\n",
            "Successfully installed colorama-0.4.6\n"
          ]
        }
      ]
    },
    {
      "cell_type": "code",
      "source": [
        "!pip install optuna"
      ],
      "metadata": {
        "id": "6K2VCNU3SFF1",
        "colab": {
          "base_uri": "https://localhost:8080/"
        },
        "outputId": "36373186-7a75-4f42-a591-7955ecd29dd3"
      },
      "execution_count": null,
      "outputs": [
        {
          "output_type": "stream",
          "name": "stdout",
          "text": [
            "Collecting optuna\n",
            "  Downloading optuna-4.2.0-py3-none-any.whl.metadata (17 kB)\n",
            "Collecting alembic>=1.5.0 (from optuna)\n",
            "  Downloading alembic-1.14.1-py3-none-any.whl.metadata (7.4 kB)\n",
            "Collecting colorlog (from optuna)\n",
            "  Downloading colorlog-6.9.0-py3-none-any.whl.metadata (10 kB)\n",
            "Requirement already satisfied: numpy in /usr/local/lib/python3.11/dist-packages (from optuna) (1.26.4)\n",
            "Requirement already satisfied: packaging>=20.0 in /usr/local/lib/python3.11/dist-packages (from optuna) (24.2)\n",
            "Requirement already satisfied: sqlalchemy>=1.4.2 in /usr/local/lib/python3.11/dist-packages (from optuna) (2.0.37)\n",
            "Requirement already satisfied: tqdm in /usr/local/lib/python3.11/dist-packages (from optuna) (4.67.1)\n",
            "Requirement already satisfied: PyYAML in /usr/local/lib/python3.11/dist-packages (from optuna) (6.0.2)\n",
            "Collecting Mako (from alembic>=1.5.0->optuna)\n",
            "  Downloading Mako-1.3.9-py3-none-any.whl.metadata (2.9 kB)\n",
            "Requirement already satisfied: typing-extensions>=4 in /usr/local/lib/python3.11/dist-packages (from alembic>=1.5.0->optuna) (4.12.2)\n",
            "Requirement already satisfied: greenlet!=0.4.17 in /usr/local/lib/python3.11/dist-packages (from sqlalchemy>=1.4.2->optuna) (3.1.1)\n",
            "Requirement already satisfied: MarkupSafe>=0.9.2 in /usr/local/lib/python3.11/dist-packages (from Mako->alembic>=1.5.0->optuna) (3.0.2)\n",
            "Downloading optuna-4.2.0-py3-none-any.whl (383 kB)\n",
            "\u001b[2K   \u001b[90m━━━━━━━━━━━━━━━━━━━━━━━━━━━━━━━━━━━━━━━━\u001b[0m \u001b[32m383.4/383.4 kB\u001b[0m \u001b[31m6.3 MB/s\u001b[0m eta \u001b[36m0:00:00\u001b[0m\n",
            "\u001b[?25hDownloading alembic-1.14.1-py3-none-any.whl (233 kB)\n",
            "\u001b[2K   \u001b[90m━━━━━━━━━━━━━━━━━━━━━━━━━━━━━━━━━━━━━━━━\u001b[0m \u001b[32m233.6/233.6 kB\u001b[0m \u001b[31m17.5 MB/s\u001b[0m eta \u001b[36m0:00:00\u001b[0m\n",
            "\u001b[?25hDownloading colorlog-6.9.0-py3-none-any.whl (11 kB)\n",
            "Downloading Mako-1.3.9-py3-none-any.whl (78 kB)\n",
            "\u001b[2K   \u001b[90m━━━━━━━━━━━━━━━━━━━━━━━━━━━━━━━━━━━━━━━━\u001b[0m \u001b[32m78.5/78.5 kB\u001b[0m \u001b[31m6.4 MB/s\u001b[0m eta \u001b[36m0:00:00\u001b[0m\n",
            "\u001b[?25hInstalling collected packages: Mako, colorlog, alembic, optuna\n",
            "Successfully installed Mako-1.3.9 alembic-1.14.1 colorlog-6.9.0 optuna-4.2.0\n"
          ]
        }
      ]
    }
  ]
}