{
  "cells": [
    {
      "cell_type": "markdown",
      "metadata": {
        "id": "yJ927piUr2_C"
      },
      "source": [
        "# MD5-light-Algorithm"
      ]
    },
    {
      "cell_type": "code",
      "execution_count": null,
      "metadata": {
        "colab": {
          "base_uri": "https://localhost:8080/"
        },
        "id": "3cUdSUCUr6Z7",
        "outputId": "00e1c33a-1509-4852-bcc1-119108e82b76"
      },
      "outputs": [
        {
          "output_type": "execute_result",
          "data": {
            "text/plain": [
              "b'\\x1bS|\\x9e'"
            ]
          },
          "metadata": {},
          "execution_count": 2
        }
      ],
      "source": [
        "import math\n",
        "import struct\n",
        "\n",
        "class Hash_value:\n",
        "    def __init__(self, hashvalue_hexa):\n",
        "        self.hashvalue_hexa = hashvalue_hexa\n",
        "        self.hashvalue_bits = bin(int(hashvalue_hexa, 16))[2:].zfill(len(hashvalue_hexa) * 4)\n",
        "        self.hashvalue_integer =  int(hashvalue_hexa, 16)\n",
        "        self.hashvalue_bytes = bytes.fromhex(self.hashvalue_hexa)\n",
        "\n",
        "class MD5_Hash:\n",
        "    # Constructor (__init__)\n",
        "    def __init__(self, type = \"regular\"):\n",
        "        # Set all Variables and Constants dependend on wordsize_bit\n",
        "        if (type == \"regular\"):\n",
        "            self.wordsize_bit = 32\n",
        "            self.bits_length_rep = 'Q' # 64 bit / 8 Byte\n",
        "            self.padding_length = 64 - 8\n",
        "        elif (type == \"light\"):\n",
        "            self.wordsize_bit = 8\n",
        "            self.bits_length_rep = 'H' # 16 bit / 2 Byte\n",
        "            self.padding_length = 16 - 2\n",
        "        else: raise ValueError(\"hash type must be either light or regular\")\n",
        "        self.wordsize_byte = int(self.wordsize_bit / 8)\n",
        "        self.blocksize_byte = self.wordsize_byte * 16\n",
        "        self.hexa = (1 << (self.wordsize_byte * 8)) - 1\n",
        "        a0, b0, c0, d0 = 0x67452301, 0xEFCDAB89, 0x98BADCFE, 0x10325476\n",
        "        self.Ks = [int(abs(math.sin(i + 1)) * (2**self.wordsize_bit)) & self.hexa for i in range(64)]\n",
        "        self.Ss = list(map(lambda s: s % self.wordsize_bit,[7, 12, 17, 22] * 4 + [5, 9, 14, 20] * 4 + [4, 11, 16, 23] * 4 + [6, 10, 15, 21] * 4))\n",
        "        self.a0,self.b0,self.c0,self.d0 = map(lambda x: int(hex(x)[2:].upper()[:(self.wordsize_byte * 2)],16), [a0, b0, c0, d0])\n",
        "        self.hashlength_bit = 4* self.wordsize_bit\n",
        "        self.hashlength_byte = 4* self.wordsize_byte\n",
        "\n",
        "    #convert Type\n",
        "    def convertType(self,m):\n",
        "        if isinstance(m, bytes):\n",
        "            return m\n",
        "        # Make sure m is converted to byte value\n",
        "        if isinstance(m, str) and all(c in '01' for c in m):  # If input is a bit string\n",
        "            byte_length = (len(m) + 7) // 8  # Compute required byte length\n",
        "            return int(m, 2).to_bytes(byte_length, byteorder=\"big\")\n",
        "        elif isinstance(m, str):  # If input is a message (string)\n",
        "            return m.encode('utf-8') # bytes\n",
        "        else:\n",
        "            raise ValueError(\"Input must be either a message (string) or a valid bit string.\")\n",
        "\n",
        "    #Padding Function\n",
        "    def pad(self,m):\n",
        "        bytes = self.convertType(m)\n",
        "        original_length_bits = len(bytes) * 8\n",
        "        bytes += b'\\x80' #appends 10000000\n",
        "        while len(bytes)%(self.blocksize_byte)!=self.padding_length:\n",
        "            bytes += b'\\x00' #appends 00000000\n",
        "        bytes += struct.pack(f'<{self.bits_length_rep}', original_length_bits) # appends 16 bit /64 bit representation in litte-endian-format of length\n",
        "        return bytes\n",
        "\n",
        "    # Rotation function (rotate left)\n",
        "    def rotate_left(self, x, n):\n",
        "        # Perform a left rotation on a 32-bit integer 'x' by 'n' positions\n",
        "        x &= self.hexa\n",
        "        return ((x << n) | (x >> (self.wordsize_bit - n))) & self.hexa\n",
        "\n",
        "    #digest\n",
        "    def digestABCD(self, A,B,C,D):\n",
        "        raw = sum(value << (self.wordsize_bit * i) for i, value in enumerate([A,B,C,D])).to_bytes(16, byteorder='little')\n",
        "        hashvalue_hexa = '{:0{width}x}'.format(int.from_bytes(raw[:self.hashlength_byte], byteorder='big'), width = self.wordsize_bit)\n",
        "        hv = Hash_value(hashvalue_hexa)\n",
        "        return Hash_value(hashvalue_hexa)\n",
        "\n",
        "    #Hash\n",
        "    def processblock(self, block, inits):\n",
        "        A, B, C, D = inits\n",
        "        for i in range(64):\n",
        "            if i <= 15:\n",
        "                f = (B & C) | (~B & D)\n",
        "                g = i\n",
        "            elif i <= 31:\n",
        "                f = (B & D) | (C & ~D)\n",
        "                g = (5 * i + 1) % 16\n",
        "            elif i <= 47:\n",
        "                f = B ^ C ^ D\n",
        "                g = (3 * i + 5) % 16\n",
        "            elif i <= 63:\n",
        "                f = C ^ (B | ~D)\n",
        "                g = (7 * i) % 16\n",
        "\n",
        "            # Calculate the temporary values\n",
        "            temp = D\n",
        "            D = C\n",
        "            C = B\n",
        "            M = int.from_bytes(block[self.wordsize_byte * g : self.wordsize_byte * g + self.wordsize_byte], byteorder='little')\n",
        "            B = (B + self.rotate_left(A + f + self.Ks[i] + M, self.Ss[i])) & self.hexa\n",
        "            A = temp\n",
        "        return([A,B,C,D])\n",
        "\n",
        "    def digest(self,m):\n",
        "        blocks = self.pad(m)\n",
        "        # Process each block\n",
        "        A_final,B_final,C_final,D_final = self.a0, self.b0, self.c0, self.d0\n",
        "        for offset in range(0, len(blocks), self.blocksize_byte):\n",
        "            block = blocks[ offset : offset + self.blocksize_byte]\n",
        "\n",
        "            #Compute Hash\n",
        "            A,B,C,D = self.processblock(block, [A_final,B_final,C_final,D_final])\n",
        "            A_final, B_final, C_final, D_final = (A_final + A) & self.hexa, (B_final + B) & self.hexa, (C_final + C) & self.hexa, (D_final + D) & self.hexa\n",
        "        return self.digestABCD(A_final, B_final, C_final, D_final)\n",
        "\n",
        "#check correctness by comparing with md5 library\n",
        "import hashlib\n",
        "bytedata = \"Hello World!\".encode('utf-8')\n",
        "md5_hash = hashlib.md5(bytedata).digest()\n",
        "computed_hash = MD5_Hash().digest(bytedata).hashvalue_bytes\n",
        "if (md5_hash != computed_hash):\n",
        "    print(f\"Correct hash:  {md5_hash}\")\n",
        "    print(f\"Computed hash: {computed_hash}\")\n",
        "\n",
        "def md5_light(input_data: str) -> str:\n",
        "    # use MD5 - light to calculate hash\n",
        "    Hash = MD5_Hash('light')\n",
        "    hashvalue = Hash.digest(input_data)\n",
        "    return hashvalue.hashvalue_bytes\n",
        "\n",
        "md5_light(\"hello\")"
      ]
    },
    {
      "cell_type": "markdown",
      "source": [
        "# HMAC"
      ],
      "metadata": {
        "id": "2qA5ctsTCoYC"
      }
    },
    {
      "cell_type": "markdown",
      "source": [
        "## HMAC Construction:\n",
        "$$\n",
        " \\text{HMAC}(K,M) = H((K'⊕ opad)||H(K'⊕ ipad)||M))\n",
        "$$\n",
        "where:\n",
        "- **$H$:** is your custom 32-bit hash function.\n",
        "- **$K$:** is the secret key\n",
        "- **$M$:** is the message\n",
        "- **$K'$:** is a key padded or truncated to the block size\n",
        "- **$⊕$:** represents XOR\n",
        "- **$opad$:** outer pad is 0x5c repeated to the block size\n",
        "- **$ipad$:** inner pad is 0x36 repeated to the block size\n",
        "\n",
        "### Steps:\n",
        "1. Ensure the key is at most the block size of your hash function. If longer, hash it.\n",
        "2. If the Key is shorter, pad it with zero bytes\n",
        "3. Compute the inner hash: $$H(K'⊕ ipad)||M) $$\n",
        "4. Compute the outer hash: $$H(K'⊕ opad)||\\text{inner hash}) $$"
      ],
      "metadata": {
        "id": "8lqsOvGU1L7S"
      }
    },
    {
      "cell_type": "code",
      "source": [
        "import hashlib\n",
        "\n",
        "def hmac(key: bytes, message: bytes, hash_func = md5_light, block_size=16) -> bytes:\n",
        "    # Ensure the key is the right length\n",
        "    if len(key) > block_size:\n",
        "        key = hash_func(key)  # Hash the key if too long\n",
        "    if len(key) < block_size:\n",
        "        key = key.ljust(block_size, b'\\x00')  # Pad with zeros if too short\n",
        "\n",
        "    # Define the opad and ipad\n",
        "    opad = bytes((x ^ 0x5C) for x in key)\n",
        "    ipad = bytes((x ^ 0x36) for x in key)\n",
        "\n",
        "    # Inner hash\n",
        "    inner_hash = hash_func(ipad + message)\n",
        "\n",
        "    # Outer hash\n",
        "    return hash_func(opad + inner_hash)\n",
        "\n",
        "# Example Usage\n",
        "key = b'secretkey'\n",
        "message = b'hello'\n",
        "hmac_result = hmac(key, message)\n",
        "print(\"HMAC:\", hmac_result)"
      ],
      "metadata": {
        "colab": {
          "base_uri": "https://localhost:8080/"
        },
        "id": "KfEuGMNmxCIP",
        "outputId": "cd9d40d3-af7e-4258-82b2-2622d62f16a7"
      },
      "execution_count": null,
      "outputs": [
        {
          "output_type": "stream",
          "name": "stdout",
          "text": [
            "HMAC: b'\\xd1\\x9b\\xee\\x84'\n"
          ]
        }
      ]
    },
    {
      "cell_type": "markdown",
      "source": [
        "# Training Data"
      ],
      "metadata": {
        "id": "KLTyh0gAlpla"
      }
    },
    {
      "cell_type": "markdown",
      "source": [
        "## Generate Data"
      ],
      "metadata": {
        "id": "2AQqQBWML53_"
      }
    },
    {
      "cell_type": "code",
      "source": [
        "import numpy as np\n",
        "import os\n",
        "\n",
        "# Generate random bitstring messages\n",
        "def random_bitstring(length=128):\n",
        "    return ''.join(np.random.choice(['0', '1'], size=length))\n",
        "\n",
        "# === PARAMETERS ===\n",
        "num_samples = 10000\n",
        "keylength = 4 # 4 byte\n",
        "dataset = []\n",
        "# === DATASET GENERATION ===\n",
        "for _ in range(num_samples):\n",
        "\n",
        "    # Generate random 4 byte key\n",
        "    k1 = os.urandom(keylength)\n",
        "    k2 = k1 if np.random.rand() > 0.5 else os.urandom(keylength)\n",
        "\n",
        "    # Generate m, m2 pair with desired differential\n",
        "    m1 = bytearray(os.urandom(11))\n",
        "    m2 = m1[:]\n",
        "    m2[8] = (m1[8] + 0x80) % 256\n",
        "\n",
        "    #compute HMACs\n",
        "    hmac1 = hmac(k1,m1)\n",
        "    hmac2 = hmac(k2,m2)\n",
        "\n",
        "    #Label\n",
        "    label = 1 if k1 == k2 else 0\n",
        "    dataset.append((hmac1,hmac2,label))\n"
      ],
      "metadata": {
        "id": "7MzO4DCdlo_T"
      },
      "execution_count": null,
      "outputs": []
    },
    {
      "cell_type": "markdown",
      "source": [
        "## Access Drive"
      ],
      "metadata": {
        "id": "W_D5MOIQL-Q5"
      }
    },
    {
      "cell_type": "code",
      "execution_count": null,
      "metadata": {
        "colab": {
          "base_uri": "https://localhost:8080/"
        },
        "id": "o9a08zEIVZRq",
        "outputId": "c89cb890-4419-47be-f8c0-49c35b24f814"
      },
      "outputs": [
        {
          "output_type": "stream",
          "name": "stdout",
          "text": [
            "Drive already mounted at /content/drive; to attempt to forcibly remount, call drive.mount(\"/content/drive\", force_remount=True).\n"
          ]
        }
      ],
      "source": [
        "from google.colab import drive\n",
        "drive.mount('/content/drive')\n",
        "\n",
        "# Path to the CSV file on Google Drive\n",
        "file_path = '/content/drive/MyDrive/Colab Notebooks/HMACs/'\n",
        "filename = f'{file_path}dataset_1million.csv'"
      ]
    },
    {
      "cell_type": "markdown",
      "source": [
        "## Upload Data"
      ],
      "metadata": {
        "id": "n1ifpBoiMBis"
      }
    },
    {
      "cell_type": "code",
      "source": [
        "import csv\n",
        "# === SAVE TO CSV ===\n",
        "with open(filename, mode=\"w\", newline=\"\") as f:\n",
        "    writer = csv.writer(f)\n",
        "    writer.writerow([\"hmac(m1)\",\"hmac(m2)\",\"sameKey?\"])\n",
        "    for row in dataset:\n",
        "      writer.writerow([row[0],row[1],row[2]])"
      ],
      "metadata": {
        "id": "cfzMDyulIer5"
      },
      "execution_count": null,
      "outputs": []
    },
    {
      "cell_type": "markdown",
      "source": [
        "## Download Data"
      ],
      "metadata": {
        "id": "jcl-R4eRMFb0"
      }
    },
    {
      "cell_type": "code",
      "source": [
        "import pandas as pd\n",
        "import ast\n",
        "# Load the dataset\n",
        "df = pd.read_csv(filename)\n",
        "\n",
        "data = df.to_numpy()\n",
        "def bytes_to_bitstring(byte_string):\n",
        "    byte_data = bytes(ast.literal_eval(byte_string))\n",
        "    return ''.join(f'{byte:08b}' for byte in byte_data)\n",
        "dataset = [(bytes_to_bitstring(row[0]),bytes_to_bitstring(row[0]), int(row[2])) for row in data]"
      ],
      "metadata": {
        "id": "VdKLcHesKMz-"
      },
      "execution_count": null,
      "outputs": []
    },
    {
      "cell_type": "markdown",
      "source": [],
      "metadata": {
        "id": "6ie5U8hOlvww"
      }
    },
    {
      "cell_type": "markdown",
      "source": [
        "## Prepare Data"
      ],
      "metadata": {
        "id": "pEN-ncWHMJAd"
      }
    },
    {
      "cell_type": "code",
      "source": [
        "from sklearn.model_selection import train_test_split\n",
        "import numpy as np\n",
        "# Convert dataset to arrays\n",
        "X = np.array([list(row[0]) + list(row[1]) for row in dataset])\n",
        "y = np.array([row[2] for row in dataset])\n",
        "\n",
        "X = X.astype(np.float32)\n",
        "y = y.astype(np.float32)\n",
        "print(f\"X shape: {X.shape}, dtype: {X.dtype}\")  # Should be (num_samples, 64)\n",
        "print(f\"y shape: {y.shape}, dtype: {y.dtype}\")  # Should be (num_samples,)\n",
        "# Train-test split\n",
        "X_train, X_test, y_train, y_test = train_test_split(X, y, test_size=0.1, random_state=42)"
      ],
      "metadata": {
        "colab": {
          "base_uri": "https://localhost:8080/"
        },
        "id": "6JIWzril6kaB",
        "outputId": "a9a5ec88-6961-459b-ea67-0b1c1678073b"
      },
      "execution_count": null,
      "outputs": [
        {
          "output_type": "stream",
          "name": "stdout",
          "text": [
            "X shape: (1000000, 64), dtype: float32\n",
            "y shape: (1000000,), dtype: float32\n"
          ]
        }
      ]
    },
    {
      "cell_type": "markdown",
      "source": [
        "# Define and Train the Neural Netwok Model (CNN)"
      ],
      "metadata": {
        "id": "Xa8TskeMmAv2"
      }
    },
    {
      "cell_type": "code",
      "source": [
        "import tensorflow as tf\n",
        "from tensorflow import keras\n",
        "from tensorflow.keras import layers\n",
        "import numpy as np\n",
        "from sklearn.model_selection import train_test_split\n",
        "from tensorflow.keras.callbacks import EarlyStopping\n",
        "import time\n",
        "import tracemalloc\n",
        "from colorama import Fore, Style\n",
        "\n",
        "# === Define the Network ===\n",
        "\n",
        "# Hyperparameters to use\n",
        "num_filters = 64\n",
        "kernel_size = 2\n",
        "num_conv_layers = 2\n",
        "dense_units = 96\n",
        "learning_rate =  0.0002\n",
        "batch_size = 352\n",
        "activation = \"leaky_relu\"\n",
        "\n",
        "#Leaky relu\n",
        "if activation == \"leaky_relu\":\n",
        "    activation_func = layers.LeakyReLU()\n",
        "else:\n",
        "  activation_func = activation\n",
        "\n",
        " # === Build CNN Model ===\n",
        "model = keras.Sequential()\n",
        "model.add(layers.Input(shape=(64, 1)))\n",
        "for _ in range(num_conv_layers):\n",
        "  model.add(layers.Conv1D(filters=num_filters, kernel_size=kernel_size, activation=activation_func, strides=1, padding='same'))\n",
        "  model.add(layers.MaxPooling1D(pool_size=2))\n",
        "model.add(layers.Flatten())\n",
        "model.add(layers.Dense(dense_units, activation=activation_func))\n",
        "model.add(layers.Dense(dense_units, activation=activation_func))\n",
        "model.add(layers.Dense(1, activation=\"sigmoid\"))\n",
        "\n",
        "# === Compile Model ===\n",
        "model.compile(optimizer=keras.optimizers.Adam(learning_rate=learning_rate), loss=\"binary_crossentropy\", metrics=[\"accuracy\"])\n",
        "model.summary()"
      ],
      "metadata": {
        "colab": {
          "base_uri": "https://localhost:8080/",
          "height": 385
        },
        "id": "xAxW9IOzmBSL",
        "outputId": "47a37154-bab8-4137-d897-435801bb2227"
      },
      "execution_count": null,
      "outputs": [
        {
          "output_type": "display_data",
          "data": {
            "text/plain": [
              "\u001b[1mModel: \"sequential_2\"\u001b[0m\n"
            ],
            "text/html": [
              "<pre style=\"white-space:pre;overflow-x:auto;line-height:normal;font-family:Menlo,'DejaVu Sans Mono',consolas,'Courier New',monospace\"><span style=\"font-weight: bold\">Model: \"sequential_2\"</span>\n",
              "</pre>\n"
            ]
          },
          "metadata": {}
        },
        {
          "output_type": "display_data",
          "data": {
            "text/plain": [
              "┏━━━━━━━━━━━━━━━━━━━━━━━━━━━━━━━━━━━━━━┳━━━━━━━━━━━━━━━━━━━━━━━━━━━━━┳━━━━━━━━━━━━━━━━━┓\n",
              "┃\u001b[1m \u001b[0m\u001b[1mLayer (type)                        \u001b[0m\u001b[1m \u001b[0m┃\u001b[1m \u001b[0m\u001b[1mOutput Shape               \u001b[0m\u001b[1m \u001b[0m┃\u001b[1m \u001b[0m\u001b[1m        Param #\u001b[0m\u001b[1m \u001b[0m┃\n",
              "┡━━━━━━━━━━━━━━━━━━━━━━━━━━━━━━━━━━━━━━╇━━━━━━━━━━━━━━━━━━━━━━━━━━━━━╇━━━━━━━━━━━━━━━━━┩\n",
              "│ conv1d_4 (\u001b[38;5;33mConv1D\u001b[0m)                    │ (\u001b[38;5;45mNone\u001b[0m, \u001b[38;5;34m64\u001b[0m, \u001b[38;5;34m64\u001b[0m)              │             \u001b[38;5;34m192\u001b[0m │\n",
              "├──────────────────────────────────────┼─────────────────────────────┼─────────────────┤\n",
              "│ max_pooling1d_4 (\u001b[38;5;33mMaxPooling1D\u001b[0m)       │ (\u001b[38;5;45mNone\u001b[0m, \u001b[38;5;34m32\u001b[0m, \u001b[38;5;34m64\u001b[0m)              │               \u001b[38;5;34m0\u001b[0m │\n",
              "├──────────────────────────────────────┼─────────────────────────────┼─────────────────┤\n",
              "│ conv1d_5 (\u001b[38;5;33mConv1D\u001b[0m)                    │ (\u001b[38;5;45mNone\u001b[0m, \u001b[38;5;34m32\u001b[0m, \u001b[38;5;34m64\u001b[0m)              │           \u001b[38;5;34m8,256\u001b[0m │\n",
              "├──────────────────────────────────────┼─────────────────────────────┼─────────────────┤\n",
              "│ max_pooling1d_5 (\u001b[38;5;33mMaxPooling1D\u001b[0m)       │ (\u001b[38;5;45mNone\u001b[0m, \u001b[38;5;34m16\u001b[0m, \u001b[38;5;34m64\u001b[0m)              │               \u001b[38;5;34m0\u001b[0m │\n",
              "├──────────────────────────────────────┼─────────────────────────────┼─────────────────┤\n",
              "│ flatten_2 (\u001b[38;5;33mFlatten\u001b[0m)                  │ (\u001b[38;5;45mNone\u001b[0m, \u001b[38;5;34m1024\u001b[0m)                │               \u001b[38;5;34m0\u001b[0m │\n",
              "├──────────────────────────────────────┼─────────────────────────────┼─────────────────┤\n",
              "│ dense_5 (\u001b[38;5;33mDense\u001b[0m)                      │ (\u001b[38;5;45mNone\u001b[0m, \u001b[38;5;34m96\u001b[0m)                  │          \u001b[38;5;34m98,400\u001b[0m │\n",
              "├──────────────────────────────────────┼─────────────────────────────┼─────────────────┤\n",
              "│ dense_6 (\u001b[38;5;33mDense\u001b[0m)                      │ (\u001b[38;5;45mNone\u001b[0m, \u001b[38;5;34m96\u001b[0m)                  │           \u001b[38;5;34m9,312\u001b[0m │\n",
              "├──────────────────────────────────────┼─────────────────────────────┼─────────────────┤\n",
              "│ dense_7 (\u001b[38;5;33mDense\u001b[0m)                      │ (\u001b[38;5;45mNone\u001b[0m, \u001b[38;5;34m1\u001b[0m)                   │              \u001b[38;5;34m97\u001b[0m │\n",
              "└──────────────────────────────────────┴─────────────────────────────┴─────────────────┘\n"
            ],
            "text/html": [
              "<pre style=\"white-space:pre;overflow-x:auto;line-height:normal;font-family:Menlo,'DejaVu Sans Mono',consolas,'Courier New',monospace\">┏━━━━━━━━━━━━━━━━━━━━━━━━━━━━━━━━━━━━━━┳━━━━━━━━━━━━━━━━━━━━━━━━━━━━━┳━━━━━━━━━━━━━━━━━┓\n",
              "┃<span style=\"font-weight: bold\"> Layer (type)                         </span>┃<span style=\"font-weight: bold\"> Output Shape                </span>┃<span style=\"font-weight: bold\">         Param # </span>┃\n",
              "┡━━━━━━━━━━━━━━━━━━━━━━━━━━━━━━━━━━━━━━╇━━━━━━━━━━━━━━━━━━━━━━━━━━━━━╇━━━━━━━━━━━━━━━━━┩\n",
              "│ conv1d_4 (<span style=\"color: #0087ff; text-decoration-color: #0087ff\">Conv1D</span>)                    │ (<span style=\"color: #00d7ff; text-decoration-color: #00d7ff\">None</span>, <span style=\"color: #00af00; text-decoration-color: #00af00\">64</span>, <span style=\"color: #00af00; text-decoration-color: #00af00\">64</span>)              │             <span style=\"color: #00af00; text-decoration-color: #00af00\">192</span> │\n",
              "├──────────────────────────────────────┼─────────────────────────────┼─────────────────┤\n",
              "│ max_pooling1d_4 (<span style=\"color: #0087ff; text-decoration-color: #0087ff\">MaxPooling1D</span>)       │ (<span style=\"color: #00d7ff; text-decoration-color: #00d7ff\">None</span>, <span style=\"color: #00af00; text-decoration-color: #00af00\">32</span>, <span style=\"color: #00af00; text-decoration-color: #00af00\">64</span>)              │               <span style=\"color: #00af00; text-decoration-color: #00af00\">0</span> │\n",
              "├──────────────────────────────────────┼─────────────────────────────┼─────────────────┤\n",
              "│ conv1d_5 (<span style=\"color: #0087ff; text-decoration-color: #0087ff\">Conv1D</span>)                    │ (<span style=\"color: #00d7ff; text-decoration-color: #00d7ff\">None</span>, <span style=\"color: #00af00; text-decoration-color: #00af00\">32</span>, <span style=\"color: #00af00; text-decoration-color: #00af00\">64</span>)              │           <span style=\"color: #00af00; text-decoration-color: #00af00\">8,256</span> │\n",
              "├──────────────────────────────────────┼─────────────────────────────┼─────────────────┤\n",
              "│ max_pooling1d_5 (<span style=\"color: #0087ff; text-decoration-color: #0087ff\">MaxPooling1D</span>)       │ (<span style=\"color: #00d7ff; text-decoration-color: #00d7ff\">None</span>, <span style=\"color: #00af00; text-decoration-color: #00af00\">16</span>, <span style=\"color: #00af00; text-decoration-color: #00af00\">64</span>)              │               <span style=\"color: #00af00; text-decoration-color: #00af00\">0</span> │\n",
              "├──────────────────────────────────────┼─────────────────────────────┼─────────────────┤\n",
              "│ flatten_2 (<span style=\"color: #0087ff; text-decoration-color: #0087ff\">Flatten</span>)                  │ (<span style=\"color: #00d7ff; text-decoration-color: #00d7ff\">None</span>, <span style=\"color: #00af00; text-decoration-color: #00af00\">1024</span>)                │               <span style=\"color: #00af00; text-decoration-color: #00af00\">0</span> │\n",
              "├──────────────────────────────────────┼─────────────────────────────┼─────────────────┤\n",
              "│ dense_5 (<span style=\"color: #0087ff; text-decoration-color: #0087ff\">Dense</span>)                      │ (<span style=\"color: #00d7ff; text-decoration-color: #00d7ff\">None</span>, <span style=\"color: #00af00; text-decoration-color: #00af00\">96</span>)                  │          <span style=\"color: #00af00; text-decoration-color: #00af00\">98,400</span> │\n",
              "├──────────────────────────────────────┼─────────────────────────────┼─────────────────┤\n",
              "│ dense_6 (<span style=\"color: #0087ff; text-decoration-color: #0087ff\">Dense</span>)                      │ (<span style=\"color: #00d7ff; text-decoration-color: #00d7ff\">None</span>, <span style=\"color: #00af00; text-decoration-color: #00af00\">96</span>)                  │           <span style=\"color: #00af00; text-decoration-color: #00af00\">9,312</span> │\n",
              "├──────────────────────────────────────┼─────────────────────────────┼─────────────────┤\n",
              "│ dense_7 (<span style=\"color: #0087ff; text-decoration-color: #0087ff\">Dense</span>)                      │ (<span style=\"color: #00d7ff; text-decoration-color: #00d7ff\">None</span>, <span style=\"color: #00af00; text-decoration-color: #00af00\">1</span>)                   │              <span style=\"color: #00af00; text-decoration-color: #00af00\">97</span> │\n",
              "└──────────────────────────────────────┴─────────────────────────────┴─────────────────┘\n",
              "</pre>\n"
            ]
          },
          "metadata": {}
        },
        {
          "output_type": "display_data",
          "data": {
            "text/plain": [
              "\u001b[1m Total params: \u001b[0m\u001b[38;5;34m116,257\u001b[0m (454.13 KB)\n"
            ],
            "text/html": [
              "<pre style=\"white-space:pre;overflow-x:auto;line-height:normal;font-family:Menlo,'DejaVu Sans Mono',consolas,'Courier New',monospace\"><span style=\"font-weight: bold\"> Total params: </span><span style=\"color: #00af00; text-decoration-color: #00af00\">116,257</span> (454.13 KB)\n",
              "</pre>\n"
            ]
          },
          "metadata": {}
        },
        {
          "output_type": "display_data",
          "data": {
            "text/plain": [
              "\u001b[1m Trainable params: \u001b[0m\u001b[38;5;34m116,257\u001b[0m (454.13 KB)\n"
            ],
            "text/html": [
              "<pre style=\"white-space:pre;overflow-x:auto;line-height:normal;font-family:Menlo,'DejaVu Sans Mono',consolas,'Courier New',monospace\"><span style=\"font-weight: bold\"> Trainable params: </span><span style=\"color: #00af00; text-decoration-color: #00af00\">116,257</span> (454.13 KB)\n",
              "</pre>\n"
            ]
          },
          "metadata": {}
        },
        {
          "output_type": "display_data",
          "data": {
            "text/plain": [
              "\u001b[1m Non-trainable params: \u001b[0m\u001b[38;5;34m0\u001b[0m (0.00 B)\n"
            ],
            "text/html": [
              "<pre style=\"white-space:pre;overflow-x:auto;line-height:normal;font-family:Menlo,'DejaVu Sans Mono',consolas,'Courier New',monospace\"><span style=\"font-weight: bold\"> Non-trainable params: </span><span style=\"color: #00af00; text-decoration-color: #00af00\">0</span> (0.00 B)\n",
              "</pre>\n"
            ]
          },
          "metadata": {}
        }
      ]
    },
    {
      "cell_type": "code",
      "source": [
        "# === Track Time and Memory Usage ===\n",
        "tracemalloc.start()\n",
        "start_time = time.time()\n",
        "\n",
        "# === Train model ===\n",
        "early_stopping = EarlyStopping(monitor='val_loss',patience=5,restore_best_weights=True)\n",
        "history = model.fit(X_train, y_train, epochs=50, batch_size=batch_size, validation_data=(X_test, y_test), callbacks = [early_stopping])\n",
        "\n",
        "# === Output Time taken and memory used ===\n",
        "_, peak = tracemalloc.get_traced_memory()  # Memory in bytes\n",
        "tracemalloc.stop() # Stop tracking\n",
        "elapsed_time = time.time() - start_time\n",
        "print(Fore.RED + f\"Time taken: {(elapsed_time / 60):.2f}min\" + Style.RESET_ALL)\n",
        "print(Fore.GREEN + f\"Memory Used: {peak:.2f} MB\" + Style.RESET_ALL)"
      ],
      "metadata": {
        "colab": {
          "base_uri": "https://localhost:8080/"
        },
        "id": "miwntESS-z-k",
        "outputId": "db83f572-b7c1-47d5-bf6b-4cb5008a451d"
      },
      "execution_count": null,
      "outputs": [
        {
          "output_type": "stream",
          "name": "stdout",
          "text": [
            "Epoch 1/50\n",
            "\u001b[1m2557/2557\u001b[0m \u001b[32m━━━━━━━━━━━━━━━━━━━━\u001b[0m\u001b[37m\u001b[0m \u001b[1m161s\u001b[0m 60ms/step - accuracy: 0.5012 - loss: 0.6933 - val_accuracy: 0.4970 - val_loss: 0.6933\n",
            "Epoch 2/50\n",
            "\u001b[1m2557/2557\u001b[0m \u001b[32m━━━━━━━━━━━━━━━━━━━━\u001b[0m\u001b[37m\u001b[0m \u001b[1m202s\u001b[0m 61ms/step - accuracy: 0.5007 - loss: 0.6932 - val_accuracy: 0.5021 - val_loss: 0.6931\n",
            "Epoch 3/50\n",
            "\u001b[1m2557/2557\u001b[0m \u001b[32m━━━━━━━━━━━━━━━━━━━━\u001b[0m\u001b[37m\u001b[0m \u001b[1m203s\u001b[0m 61ms/step - accuracy: 0.5031 - loss: 0.6931 - val_accuracy: 0.5005 - val_loss: 0.6932\n",
            "Epoch 4/50\n",
            "\u001b[1m2557/2557\u001b[0m \u001b[32m━━━━━━━━━━━━━━━━━━━━\u001b[0m\u001b[37m\u001b[0m \u001b[1m155s\u001b[0m 61ms/step - accuracy: 0.5044 - loss: 0.6931 - val_accuracy: 0.4979 - val_loss: 0.6933\n",
            "Epoch 5/50\n",
            "\u001b[1m2557/2557\u001b[0m \u001b[32m━━━━━━━━━━━━━━━━━━━━\u001b[0m\u001b[37m\u001b[0m \u001b[1m155s\u001b[0m 60ms/step - accuracy: 0.5073 - loss: 0.6929 - val_accuracy: 0.4974 - val_loss: 0.6933\n",
            "Epoch 6/50\n",
            "\u001b[1m2557/2557\u001b[0m \u001b[32m━━━━━━━━━━━━━━━━━━━━\u001b[0m\u001b[37m\u001b[0m \u001b[1m202s\u001b[0m 61ms/step - accuracy: 0.5106 - loss: 0.6928 - val_accuracy: 0.4999 - val_loss: 0.6934\n",
            "Epoch 7/50\n",
            "\u001b[1m2557/2557\u001b[0m \u001b[32m━━━━━━━━━━━━━━━━━━━━\u001b[0m\u001b[37m\u001b[0m \u001b[1m199s\u001b[0m 59ms/step - accuracy: 0.5132 - loss: 0.6926 - val_accuracy: 0.5008 - val_loss: 0.6934\n",
            "\u001b[31mTime taken: 22.13min\u001b[0m\n",
            "\u001b[32mMemory Used: 242716341.00 MB\u001b[0m\n"
          ]
        }
      ]
    },
    {
      "cell_type": "markdown",
      "source": [
        "# Optuna"
      ],
      "metadata": {
        "id": "ix-FyQLpFiIZ"
      }
    },
    {
      "cell_type": "code",
      "source": [
        "import optuna\n",
        "import tensorflow as tf\n",
        "from tensorflow import keras\n",
        "from tensorflow.keras import layers\n",
        "import numpy as np\n",
        "from sklearn.model_selection import train_test_split\n",
        "from tensorflow.keras.callbacks import EarlyStopping\n",
        "import time\n",
        "import tracemalloc\n",
        "from colorama import Fore, Style\n",
        "\n",
        "historys = []\n",
        "params_ = []\n",
        "trial_times = []\n",
        "trial_memory = []\n",
        "\n",
        "# === Define the Objective Function for Optuna ===\n",
        "def objective(trial):\n",
        "    # === Track Time and Memory Usage ===\n",
        "    tracemalloc.start()\n",
        "    start_time = time.time()\n",
        "\n",
        "    # Hyperparameters to tune\n",
        "    num_filters = trial.suggest_int(\"num_filters\", 16, 64, step=16)\n",
        "    kernel_size = trial.suggest_int(\"kernel_size\", 1, 3, step=1)\n",
        "    num_conv_layers = trial.suggest_int(\"num_conv_layers\", 2,4, step=1)\n",
        "    dense_units = trial.suggest_int(\"dense_units\", 32, 128, step=32)\n",
        "    learning_rate = trial.suggest_float(\"learning_rate\", 1e-4, 1e-2, log=True)\n",
        "    batch_size = trial.suggest_int(\"batch_size\", 32, 1024, step=32)\n",
        "    activation = trial.suggest_categorical(\"activation\", [\"relu\", \"leaky_relu\",\"selu\"])\n",
        "\n",
        "    #Leaky relu\n",
        "    if activation == \"leaky_relu\":\n",
        "        activation_func = layers.LeakyReLU()\n",
        "    else:\n",
        "      activation_func = activation\n",
        "\n",
        "    # === Build CNN Model ===\n",
        "    model = keras.Sequential()\n",
        "    model.add(layers.Input(shape=(64, 1)))\n",
        "\n",
        "    for _ in range(num_conv_layers):\n",
        "      model.add(layers.Conv1D(filters=num_filters, kernel_size=kernel_size, activation=activation_func, strides=1, padding='same'))\n",
        "      model.add(layers.MaxPooling1D(pool_size=2))\n",
        "\n",
        "    model.add(layers.Flatten())\n",
        "    model.add(layers.Dense(dense_units, activation=activation_func))\n",
        "    model.add(layers.Dense(dense_units, activation=activation_func))\n",
        "    model.add(layers.Dense(1, activation=\"sigmoid\"))\n",
        "\n",
        "    # Compile model\n",
        "    model.compile(optimizer=keras.optimizers.Adam(learning_rate=learning_rate),\n",
        "                  loss=\"binary_crossentropy\",\n",
        "                  metrics=[\"accuracy\"])\n",
        "\n",
        "    # Train model\n",
        "    early_stopping = EarlyStopping(\n",
        "        monitor='val_loss',\n",
        "        patience=10,\n",
        "        restore_best_weights=True\n",
        "    )\n",
        "\n",
        "    history = model.fit(X_train, y_train, validation_data=(X_test, y_test),\n",
        "                        epochs=50, batch_size=batch_size, verbose=0, callbacks=[early_stopping])\n",
        "\n",
        "    historys.append(history)\n",
        "    params_.append([num_filters, kernel_size, num_conv_layers, dense_units, learning_rate, batch_size, activation])\n",
        "\n",
        "    _, peak = tracemalloc.get_traced_memory()  # Memory in bytes\n",
        "    tracemalloc.stop() # Stop tracking\n",
        "    elapsed_time = time.time() - start_time\n",
        "    trial_times.append(elapsed_time)\n",
        "    trial_memory.append(peak / 1e6)\n",
        "    # Evaluate accuracy\n",
        "    val_accuracy = history.history[\"val_accuracy\"][-1]\n",
        "    return val_accuracy\n",
        "\n",
        "# === Run Optuna Optimization ===\n",
        "study = optuna.create_study(direction=\"maximize\")\n",
        "study.optimize(objective, n_trials=20)\n",
        "\n",
        "# === Print best hyperparameters ===\n",
        "print(Fore.CYAN + f\"\\nBest Hyperparameters: {study.best_params}\" + Style.RESET_ALL)\n",
        "\n",
        "# === Output Time taken and memory used ===\n",
        "print(Fore.RED + f\"Total Time taken: {(sum(trial_times)/60):.2f}min\" + Style.RESET_ALL)\n",
        "print(Fore.YELLOW + f\"Average Time Per Trial: {sum(trial_times)/len(trial_times):.2f}s\" + Style.RESET_ALL)\n",
        "print(Fore.GREEN + f\"Average Memory Used: {sum(trial_memory)/len(trial_memory):.2f} MB\" + Style.RESET_ALL)\n"
      ],
      "metadata": {
        "colab": {
          "base_uri": "https://localhost:8080/"
        },
        "id": "vr-xdPSbw9AP",
        "outputId": "f86c34c1-276d-46a0-b586-9a4132c388da"
      },
      "execution_count": null,
      "outputs": [
        {
          "output_type": "stream",
          "name": "stderr",
          "text": [
            "[I 2025-02-08 01:56:28,053] A new study created in memory with name: no-name-3384d107-0849-4a54-96e3-3d9254690752\n",
            "[I 2025-02-08 01:58:14,969] Trial 0 finished with value: 0.49869999289512634 and parameters: {'num_filters': 32, 'kernel_size': 3, 'num_conv_layers': 2, 'dense_units': 64, 'learning_rate': 0.0011072850070923531, 'batch_size': 896, 'activation': 'relu'}. Best is trial 0 with value: 0.49869999289512634.\n",
            "[I 2025-02-08 02:00:34,694] Trial 1 finished with value: 0.4959999918937683 and parameters: {'num_filters': 32, 'kernel_size': 3, 'num_conv_layers': 3, 'dense_units': 64, 'learning_rate': 0.000263588948164315, 'batch_size': 992, 'activation': 'selu'}. Best is trial 0 with value: 0.49869999289512634.\n",
            "[I 2025-02-08 02:04:01,481] Trial 2 finished with value: 0.5073999762535095 and parameters: {'num_filters': 64, 'kernel_size': 2, 'num_conv_layers': 2, 'dense_units': 96, 'learning_rate': 0.00019834734763826554, 'batch_size': 352, 'activation': 'leaky_relu'}. Best is trial 2 with value: 0.5073999762535095.\n",
            "[I 2025-02-08 02:08:57,133] Trial 3 finished with value: 0.4977000057697296 and parameters: {'num_filters': 64, 'kernel_size': 3, 'num_conv_layers': 4, 'dense_units': 32, 'learning_rate': 0.0004743879879283044, 'batch_size': 320, 'activation': 'relu'}. Best is trial 2 with value: 0.5073999762535095.\n",
            "[I 2025-02-08 02:13:04,121] Trial 4 finished with value: 0.5011000037193298 and parameters: {'num_filters': 64, 'kernel_size': 3, 'num_conv_layers': 2, 'dense_units': 32, 'learning_rate': 0.0005754561122097195, 'batch_size': 736, 'activation': 'selu'}. Best is trial 2 with value: 0.5073999762535095.\n",
            "[I 2025-02-08 02:20:20,960] Trial 5 finished with value: 0.5024999976158142 and parameters: {'num_filters': 64, 'kernel_size': 3, 'num_conv_layers': 4, 'dense_units': 128, 'learning_rate': 0.00019295102794793982, 'batch_size': 640, 'activation': 'selu'}. Best is trial 2 with value: 0.5073999762535095.\n",
            "[I 2025-02-08 02:22:07,209] Trial 6 finished with value: 0.4966000020503998 and parameters: {'num_filters': 16, 'kernel_size': 2, 'num_conv_layers': 4, 'dense_units': 96, 'learning_rate': 0.000256597779493805, 'batch_size': 192, 'activation': 'relu'}. Best is trial 2 with value: 0.5073999762535095.\n",
            "[I 2025-02-08 02:24:03,819] Trial 7 finished with value: 0.5001999735832214 and parameters: {'num_filters': 48, 'kernel_size': 1, 'num_conv_layers': 2, 'dense_units': 96, 'learning_rate': 0.000123680261856328, 'batch_size': 384, 'activation': 'leaky_relu'}. Best is trial 2 with value: 0.5073999762535095.\n",
            "[I 2025-02-08 02:25:47,434] Trial 8 finished with value: 0.5012999773025513 and parameters: {'num_filters': 16, 'kernel_size': 2, 'num_conv_layers': 2, 'dense_units': 96, 'learning_rate': 0.0002761197891601302, 'batch_size': 512, 'activation': 'relu'}. Best is trial 2 with value: 0.5073999762535095.\n",
            "[I 2025-02-08 02:27:55,114] Trial 9 finished with value: 0.504800021648407 and parameters: {'num_filters': 16, 'kernel_size': 3, 'num_conv_layers': 2, 'dense_units': 96, 'learning_rate': 0.001244991982218304, 'batch_size': 192, 'activation': 'selu'}. Best is trial 2 with value: 0.5073999762535095.\n",
            "[I 2025-02-08 02:35:38,765] Trial 10 finished with value: 0.4977000057697296 and parameters: {'num_filters': 48, 'kernel_size': 1, 'num_conv_layers': 3, 'dense_units': 128, 'learning_rate': 0.004675842110150487, 'batch_size': 32, 'activation': 'leaky_relu'}. Best is trial 2 with value: 0.5073999762535095.\n",
            "[I 2025-02-08 02:40:17,999] Trial 11 finished with value: 0.4977000057697296 and parameters: {'num_filters': 32, 'kernel_size': 2, 'num_conv_layers': 3, 'dense_units': 96, 'learning_rate': 0.0022908510449303698, 'batch_size': 160, 'activation': 'leaky_relu'}. Best is trial 2 with value: 0.5073999762535095.\n",
            "[I 2025-02-08 02:45:35,868] Trial 12 finished with value: 0.5023999810218811 and parameters: {'num_filters': 48, 'kernel_size': 2, 'num_conv_layers': 2, 'dense_units': 128, 'learning_rate': 0.0014176862599746384, 'batch_size': 352, 'activation': 'selu'}. Best is trial 2 with value: 0.5073999762535095.\n",
            "[I 2025-02-08 02:49:46,716] Trial 13 finished with value: 0.4977000057697296 and parameters: {'num_filters': 16, 'kernel_size': 1, 'num_conv_layers': 2, 'dense_units': 64, 'learning_rate': 0.007844026239388598, 'batch_size': 32, 'activation': 'leaky_relu'}. Best is trial 2 with value: 0.5073999762535095.\n",
            "[I 2025-02-08 02:54:37,386] Trial 14 finished with value: 0.5042999982833862 and parameters: {'num_filters': 48, 'kernel_size': 2, 'num_conv_layers': 3, 'dense_units': 96, 'learning_rate': 0.002232990400948648, 'batch_size': 480, 'activation': 'selu'}. Best is trial 2 with value: 0.5073999762535095.\n",
            "[I 2025-02-08 02:56:39,432] Trial 15 finished with value: 0.4957999885082245 and parameters: {'num_filters': 32, 'kernel_size': 2, 'num_conv_layers': 2, 'dense_units': 64, 'learning_rate': 0.0005404996561885624, 'batch_size': 224, 'activation': 'leaky_relu'}. Best is trial 2 with value: 0.5073999762535095.\n",
            "[I 2025-02-08 03:00:52,576] Trial 16 finished with value: 0.49630001187324524 and parameters: {'num_filters': 64, 'kernel_size': 3, 'num_conv_layers': 3, 'dense_units': 128, 'learning_rate': 0.0001225806141783848, 'batch_size': 640, 'activation': 'leaky_relu'}. Best is trial 2 with value: 0.5073999762535095.\n",
            "[I 2025-02-08 03:03:25,134] Trial 17 finished with value: 0.4950999915599823 and parameters: {'num_filters': 16, 'kernel_size': 1, 'num_conv_layers': 2, 'dense_units': 96, 'learning_rate': 0.0007114993363067221, 'batch_size': 256, 'activation': 'selu'}. Best is trial 2 with value: 0.5073999762535095.\n",
            "[I 2025-02-08 03:09:03,467] Trial 18 finished with value: 0.4991999864578247 and parameters: {'num_filters': 32, 'kernel_size': 2, 'num_conv_layers': 2, 'dense_units': 64, 'learning_rate': 0.0020046800456025794, 'batch_size': 96, 'activation': 'leaky_relu'}. Best is trial 2 with value: 0.5073999762535095.\n",
            "[I 2025-02-08 03:13:54,209] Trial 19 finished with value: 0.4982999861240387 and parameters: {'num_filters': 48, 'kernel_size': 2, 'num_conv_layers': 3, 'dense_units': 128, 'learning_rate': 0.0008564352658840092, 'batch_size': 448, 'activation': 'selu'}. Best is trial 2 with value: 0.5073999762535095.\n"
          ]
        },
        {
          "output_type": "stream",
          "name": "stdout",
          "text": [
            "\u001b[36m\n",
            "Best Hyperparameters: {'num_filters': 64, 'kernel_size': 2, 'num_conv_layers': 2, 'dense_units': 96, 'learning_rate': 0.00019834734763826554, 'batch_size': 352, 'activation': 'leaky_relu'}\u001b[0m\n",
            "\u001b[31mTotal Time taken: 77.43min\u001b[0m\n",
            "\u001b[33mAverage Time Per Trial: 232.30s\u001b[0m\n",
            "\u001b[32mAverage Memory Used: 30.84 MB\u001b[0m\n"
          ]
        }
      ]
    },
    {
      "cell_type": "markdown",
      "source": [
        "# install package"
      ],
      "metadata": {
        "id": "sOo2EBAaFd4R"
      }
    },
    {
      "cell_type": "code",
      "source": [
        "!pip install colorama\n"
      ],
      "metadata": {
        "colab": {
          "base_uri": "https://localhost:8080/"
        },
        "id": "zat9zU8VRY2u",
        "outputId": "5004d088-ed5d-470a-dcf1-0fa1c27d781d"
      },
      "execution_count": null,
      "outputs": [
        {
          "output_type": "stream",
          "name": "stdout",
          "text": [
            "Collecting colorama\n",
            "  Downloading colorama-0.4.6-py2.py3-none-any.whl.metadata (17 kB)\n",
            "Downloading colorama-0.4.6-py2.py3-none-any.whl (25 kB)\n",
            "Installing collected packages: colorama\n",
            "Successfully installed colorama-0.4.6\n"
          ]
        }
      ]
    },
    {
      "cell_type": "code",
      "source": [
        "!pip install optuna\n"
      ],
      "metadata": {
        "colab": {
          "base_uri": "https://localhost:8080/"
        },
        "id": "ABFWaaRzFaH0",
        "outputId": "4c7df517-b923-4181-a389-d1cd376efc2d"
      },
      "execution_count": null,
      "outputs": [
        {
          "output_type": "stream",
          "name": "stdout",
          "text": [
            "Collecting optuna\n",
            "  Downloading optuna-4.2.0-py3-none-any.whl.metadata (17 kB)\n",
            "Collecting alembic>=1.5.0 (from optuna)\n",
            "  Downloading alembic-1.14.1-py3-none-any.whl.metadata (7.4 kB)\n",
            "Collecting colorlog (from optuna)\n",
            "  Downloading colorlog-6.9.0-py3-none-any.whl.metadata (10 kB)\n",
            "Requirement already satisfied: numpy in /usr/local/lib/python3.11/dist-packages (from optuna) (1.26.4)\n",
            "Requirement already satisfied: packaging>=20.0 in /usr/local/lib/python3.11/dist-packages (from optuna) (24.2)\n",
            "Requirement already satisfied: sqlalchemy>=1.4.2 in /usr/local/lib/python3.11/dist-packages (from optuna) (2.0.37)\n",
            "Requirement already satisfied: tqdm in /usr/local/lib/python3.11/dist-packages (from optuna) (4.67.1)\n",
            "Requirement already satisfied: PyYAML in /usr/local/lib/python3.11/dist-packages (from optuna) (6.0.2)\n",
            "Collecting Mako (from alembic>=1.5.0->optuna)\n",
            "  Downloading Mako-1.3.9-py3-none-any.whl.metadata (2.9 kB)\n",
            "Requirement already satisfied: typing-extensions>=4 in /usr/local/lib/python3.11/dist-packages (from alembic>=1.5.0->optuna) (4.12.2)\n",
            "Requirement already satisfied: greenlet!=0.4.17 in /usr/local/lib/python3.11/dist-packages (from sqlalchemy>=1.4.2->optuna) (3.1.1)\n",
            "Requirement already satisfied: MarkupSafe>=0.9.2 in /usr/local/lib/python3.11/dist-packages (from Mako->alembic>=1.5.0->optuna) (3.0.2)\n",
            "Downloading optuna-4.2.0-py3-none-any.whl (383 kB)\n",
            "\u001b[2K   \u001b[90m━━━━━━━━━━━━━━━━━━━━━━━━━━━━━━━━━━━━━━━━\u001b[0m \u001b[32m383.4/383.4 kB\u001b[0m \u001b[31m13.7 MB/s\u001b[0m eta \u001b[36m0:00:00\u001b[0m\n",
            "\u001b[?25hDownloading alembic-1.14.1-py3-none-any.whl (233 kB)\n",
            "\u001b[2K   \u001b[90m━━━━━━━━━━━━━━━━━━━━━━━━━━━━━━━━━━━━━━━━\u001b[0m \u001b[32m233.6/233.6 kB\u001b[0m \u001b[31m15.1 MB/s\u001b[0m eta \u001b[36m0:00:00\u001b[0m\n",
            "\u001b[?25hDownloading colorlog-6.9.0-py3-none-any.whl (11 kB)\n",
            "Downloading Mako-1.3.9-py3-none-any.whl (78 kB)\n",
            "\u001b[2K   \u001b[90m━━━━━━━━━━━━━━━━━━━━━━━━━━━━━━━━━━━━━━━━\u001b[0m \u001b[32m78.5/78.5 kB\u001b[0m \u001b[31m5.9 MB/s\u001b[0m eta \u001b[36m0:00:00\u001b[0m\n",
            "\u001b[?25hInstalling collected packages: Mako, colorlog, alembic, optuna\n",
            "Successfully installed Mako-1.3.9 alembic-1.14.1 colorlog-6.9.0 optuna-4.2.0\n"
          ]
        }
      ]
    }
  ],
  "metadata": {
    "colab": {
      "provenance": [],
      "collapsed_sections": [
        "yJ927piUr2_C",
        "2qA5ctsTCoYC",
        "KLTyh0gAlpla"
      ]
    },
    "kernelspec": {
      "display_name": "Python 3",
      "name": "python3"
    },
    "language_info": {
      "name": "python"
    }
  },
  "nbformat": 4,
  "nbformat_minor": 0
}